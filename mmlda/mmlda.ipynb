{
 "cells": [
  {
   "cell_type": "code",
   "execution_count": 1,
   "metadata": {
    "collapsed": true
   },
   "outputs": [],
   "source": [
    "%matplotlib inline\n",
    "%load_ext line_profiler\n",
    "import numpy as np\n",
    "import scipy as sp\n",
    "import scipy.sparse as spar\n",
    "import scipy.special as spec\n",
    "import sys\n",
    "from matplotlib import pyplot as plt\n",
    "from lda import LDA, _doc_update, _slice_doc_update\n",
    "from sklearn.decomposition import LatentDirichletAllocation as SKLDA\n",
    "\n",
    "import pickle\n",
    "import cProfile"
   ]
  },
  {
   "cell_type": "code",
   "execution_count": 2,
   "metadata": {
    "collapsed": false
   },
   "outputs": [],
   "source": [
    "from data.datafile import AADataFile\n",
    "dfile = pickle.load(open(\"data/datafile.pkl\"))"
   ]
  },
  {
   "cell_type": "code",
   "execution_count": 3,
   "metadata": {
    "collapsed": false
   },
   "outputs": [],
   "source": [
    "dt = dfile.DT\n",
    "te = dfile.TE"
   ]
  },
  {
   "cell_type": "code",
   "execution_count": 4,
   "metadata": {
    "collapsed": false
   },
   "outputs": [],
   "source": [
    "f = te.toarray().argmax(axis=1)"
   ]
  },
  {
   "cell_type": "code",
   "execution_count": 5,
   "metadata": {
    "collapsed": false
   },
   "outputs": [
    {
     "name": "stdout",
     "output_type": "stream",
     "text": [
      "Epoch: 0\n",
      "Perplexity: 1.63304413424\n",
      "Epoch: 1\n",
      "Perplexity: 325.608173645\n",
      "Epoch: 2\n",
      "Perplexity: 296.191436398\n",
      "Epoch: 3\n",
      "Perplexity: 273.042124423\n",
      "Epoch: 4\n",
      "Perplexity: 257.622304773\n",
      "Epoch: 5\n",
      "Perplexity: 248.48690896\n",
      "Epoch: 6\n",
      "Perplexity: 242.573259111\n",
      "Epoch: 7\n",
      "Perplexity: 238.491640957\n",
      "Epoch: 8\n",
      "Perplexity: 235.784852238\n",
      "Epoch: 9\n",
      "Perplexity: 233.873945926\n",
      "Epoch: 10\n",
      "Perplexity: 232.434808476\n",
      "Epoch: 11\n",
      "Perplexity: 231.370838511\n",
      "Epoch: 12\n",
      "Perplexity: 230.522072508\n",
      "Epoch: 13\n",
      "Perplexity: 229.858172856\n",
      "Epoch: 14\n",
      "Perplexity: 229.27309082\n",
      "Epoch: 15\n",
      "Perplexity: 228.82230132\n",
      "Epoch: 16\n",
      "Perplexity: 228.432537849\n",
      "Epoch: 17\n",
      "Perplexity: 228.101560663\n",
      "Epoch: 18\n",
      "Perplexity: 227.800950195\n",
      "Epoch: 19\n",
      "Perplexity: 227.547234884\n",
      "CPU times: user 1.75 s, sys: 1.55 s, total: 3.3 s\n",
      "Wall time: 54.7 s\n"
     ]
    }
   ],
   "source": [
    "lda = LDA(K=10, n_jobs=8, nr_em_epochs=20)\n",
    "%time b, g = lda.fit(dt)"
   ]
  },
  {
   "cell_type": "code",
   "execution_count": null,
   "metadata": {
    "collapsed": false
   },
   "outputs": [],
   "source": [
    "vocab = dfile.vocabulary"
   ]
  },
  {
   "cell_type": "code",
   "execution_count": null,
   "metadata": {
    "collapsed": true
   },
   "outputs": [],
   "source": [
    "lookup = lambda x : [k[0] for k in vocab if k[1] == x]\n",
    "\n",
    "def topic_summaries(b):\n",
    "    bs = b.argsort()[:,-50:]\n",
    "    for i in range(10):\n",
    "        print \"Topic\", i\n",
    "        words = []\n",
    "        for j in range(bs.shape[1]):\n",
    "            words.append(lookup(bs[i,j])[0])\n",
    "        print \" \".join(words)"
   ]
  },
  {
   "cell_type": "code",
   "execution_count": null,
   "metadata": {
    "collapsed": false
   },
   "outputs": [],
   "source": [
    "topic_summaries(b)"
   ]
  },
  {
   "cell_type": "markdown",
   "metadata": {},
   "source": [
    "# Multimodal Starts Here!"
   ]
  },
  {
   "cell_type": "code",
   "execution_count": null,
   "metadata": {
    "collapsed": false
   },
   "outputs": [],
   "source": [
    "lda = LDA(K=10, n_jobs=8, nr_em_epochs=20)\n",
    "%time b, g, e = lda.fit(dt, f)"
   ]
  },
  {
   "cell_type": "code",
   "execution_count": null,
   "metadata": {
    "collapsed": false
   },
   "outputs": [],
   "source": [
    "(f[[1,2,3,30]] == 0)"
   ]
  }
 ],
 "metadata": {
  "kernelspec": {
   "display_name": "Python 2",
   "language": "python",
   "name": "python2"
  },
  "language_info": {
   "codemirror_mode": {
    "name": "ipython",
    "version": 2
   },
   "file_extension": ".py",
   "mimetype": "text/x-python",
   "name": "python",
   "nbconvert_exporter": "python",
   "pygments_lexer": "ipython2",
   "version": "2.7.10"
  }
 },
 "nbformat": 4,
 "nbformat_minor": 0
}
