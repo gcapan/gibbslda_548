{
 "cells": [
  {
   "cell_type": "code",
   "execution_count": 2,
   "metadata": {
    "collapsed": false
   },
   "outputs": [
    {
     "name": "stdout",
     "output_type": "stream",
     "text": [
      "The line_profiler extension is already loaded. To reload it, use:\n",
      "  %reload_ext line_profiler\n"
     ]
    }
   ],
   "source": [
    "%matplotlib inline\n",
    "%load_ext line_profiler\n",
    "import numpy as np\n",
    "import scipy as sp\n",
    "import scipy.sparse as spar\n",
    "import scipy.special as spec\n",
    "import sys\n",
    "from matplotlib import pyplot as plt\n",
    "from lda import LDA, _doc_update, _slice_doc_update\n",
    "from sklearn.decomposition import LatentDirichletAllocation as SKLDA\n",
    "\n",
    "import pickle\n",
    "import cProfile"
   ]
  },
  {
   "cell_type": "code",
   "execution_count": 3,
   "metadata": {
    "collapsed": false
   },
   "outputs": [],
   "source": [
    "from data.datafile import AADataFile\n",
    "dfile = pickle.load(open(\"data/datafile.pkl\"))"
   ]
  },
  {
   "cell_type": "code",
   "execution_count": 4,
   "metadata": {
    "collapsed": false
   },
   "outputs": [],
   "source": [
    "dt = dfile.DT\n",
    "te = dfile.TE"
   ]
  },
  {
   "cell_type": "code",
   "execution_count": 5,
   "metadata": {
    "collapsed": false
   },
   "outputs": [],
   "source": [
    "f = te.toarray().argmax(axis=1)"
   ]
  },
  {
   "cell_type": "code",
   "execution_count": 28,
   "metadata": {
    "collapsed": false
   },
   "outputs": [
    {
     "name": "stdout",
     "output_type": "stream",
     "text": [
      "Epoch: 0\n",
      "Perplexity: 1.59052853434\n",
      "Epoch: 1\n",
      "Perplexity: 272.100029048\n",
      "Epoch: 2\n",
      "Perplexity: 234.884069335\n",
      "Epoch: 3\n",
      "Perplexity: 216.131228217\n",
      "Epoch: 4\n",
      "Perplexity: 205.93645874\n",
      "Epoch: 5\n",
      "Perplexity: 200.031060156\n",
      "Epoch: 6\n",
      "Perplexity: 196.122891534\n",
      "Epoch: 7\n",
      "Perplexity: 193.53383445\n",
      "Epoch: 8\n",
      "Perplexity: 191.662787389\n",
      "Epoch: 9\n",
      "Perplexity: 190.326765604\n",
      "Epoch: 10\n",
      "Perplexity: 189.254178289\n",
      "Epoch: 11\n",
      "Perplexity: 188.426369048\n",
      "Epoch: 12\n",
      "Perplexity: 187.743603138\n",
      "Epoch: 13\n",
      "Perplexity: 187.144781797\n",
      "Epoch: 14\n",
      "Perplexity: 186.594047517\n",
      "Epoch: 15\n",
      "Perplexity: 186.125465548\n",
      "Epoch: 16\n",
      "Perplexity: 185.707849703\n",
      "Epoch: 17\n",
      "Perplexity: 185.353337248\n",
      "Epoch: 18\n",
      "Perplexity: 185.024750531\n",
      "Epoch: 19\n",
      "Perplexity: 184.722611988\n",
      "CPU times: user 2.66 s, sys: 2 s, total: 4.66 s\n",
      "Wall time: 3min 16s\n"
     ]
    }
   ],
   "source": [
    "lda = LDA(K=30, n_jobs=8, nr_em_epochs=20)\n",
    "%time b_uni, g_uni = lda.fit(dt)"
   ]
  },
  {
   "cell_type": "code",
   "execution_count": 29,
   "metadata": {
    "collapsed": false
   },
   "outputs": [],
   "source": [
    "vocab = dfile.vocabulary"
   ]
  },
  {
   "cell_type": "code",
   "execution_count": 30,
   "metadata": {
    "collapsed": true
   },
   "outputs": [],
   "source": [
    "lookup = lambda x : [k[0] for k in vocab if k[1] == x]\n",
    "\n",
    "def topic_summaries(b, K=10):\n",
    "    bs = b.argsort()[:,-50:]\n",
    "    for i in range(K):\n",
    "        print \"Topic\", i\n",
    "        words = []\n",
    "        for j in range(bs.shape[1]):\n",
    "            words.append(lookup(bs[i,j])[0])\n",
    "        print \" \".join(words)"
   ]
  },
  {
   "cell_type": "code",
   "execution_count": 31,
   "metadata": {
    "collapsed": false
   },
   "outputs": [
    {
     "name": "stdout",
     "output_type": "stream",
     "text": [
      "Topic 0\n",
      "şey oy fotoğraf şampiyonası olarak görev eden nun aldığı bana çakır kullandı yaşam etti oylamasına aynı nda yılın yıl odtü fotoğrafları başkanı özel olmak haber konuştu ilgili anadolu tarafından olduğunu yapan büyük anlatan olan türk dedi in nın kategorisinde milli yer ın bin muhabirine muhabir spor söyledi açıklamada yaptığı aa\n",
      "Topic 1\n",
      "un in bazı 2015 bulunduğuna görev zaman edildi islam olduğu diğer bağlı daki 31 gelir alan kanunu yıl ın uygun internet vergisi yeni kabul israil türkiye ocak arasında edilen tarihi konusu dair lira söz yer 2016 sağlık muhabir aynı ispanya resmi olan genel milyon nın ilişkin ilgili kanun olarak bin\n",
      "Topic 2\n",
      "yapılanması adliyeye müdürü aralarında ekipleri ilişkin öğrenildi paralel devlet ardından üyesi bilgiye merkezli operasyon ye olmak eski na alındı yapılan adli ceza muhabir gülen bulunduğu olduğu edildi mücadele fetö edilen şube yönelik operasyonda sevk pdy kararı istanbul soruşturma şüpheli serbest cumhuriyet alınan kişi kapsamında ankara örgütü müdürlüğü terör gözaltına emniyet\n",
      "Topic 3\n",
      "bağlı öğrenildi eşi verildi yapılan yaptığı başkanı gün yaklaşık olay yakınları ün iş nın uzman edildi toprağa kalan çavuş yoğun kişi cenaze sırasında mahsur sonucu olan tarafından sağlık bilgiye nde bulunduğu tedavi açıklamada kar mahallesi ilçesinde cenazesi jandarma yaşındaki alınan şehidin nin israil ekipleri muhabir polis in ardından ın şehit\n",
      "Topic 4\n",
      "bütün soylu genel ortaya olan mücadele antalya ifadelerini şunları söyledi yönetim konusunda çavuşoğlu yaptığı kullandı pkk ilgili etti ifade tüm başkanı anda türk zaman her böyle bakanı bizim değil irak önemli terör eden konuştu ye ın şekilde var suriye cumhurbaşkanı kürt dedi nın olarak devam olduğunu rusya erdoğan nin türkiye\n",
      "Topic 5\n",
      "düzenlenen polis il ardından verildiği okullarda orta deniz batı bağlı merkez altında te yaklaşık kaydedildi gelen olan tarafından merkezi nda genelinde yıl verildi tatil istanbul yeni ilçelerinde meydana yılbaşı edildi olumsuz sarıkamış israil belirtildi ocak günü nın bildirildi eğitim bin gün eğitime muhabir yapılan yoğun yağışı ara açıklamada hava kar\n",
      "Topic 6\n",
      "10 savaş belirtildi çocuk dışişleri bakanı türkiye geçen ele türk nemr daki rejim güvenlik kadın deki saldırılarda yönelik halep yılında edilen aldığı alan ardından silahlı ye yer muhabir iran daeş olduğu kişi el abd te yıl ın hava 2015 tarafından kişinin nin arabistan in suudi rus nın bin suriye rusya\n",
      "Topic 7\n",
      "önemli lider günü 19 eden ederek yeni mutlu aldı teknik türkiye yaptığı önünde uefa 21 milli top şampiyon kupası yıl maçında mücadele takımı nin saat olarak asist yüzde takım nde türk ikinci sayı yer muhabir grubu ın 2015 sezon oldu 16 in sırada nda nın son bin galibiyet ligi avrupa\n",
      "Topic 8\n",
      "yaptığı başkanlık kurtulmuş son etti ye çelik türk yi şeklinde sivil kılıçdaroğlu konusunda sayın şunları kullandı kaydetti devam zaman olan yardımcısı siyasi hiçbir söyledi şekilde ortaya ilgili değil genel eden ifade ak yeni büyük anayasa bütün hdp her bizim var dedi olduğunu konuştu parti terör olarak başbakan nin davutoğlu türkiye\n",
      "Topic 9\n",
      "olacak ekonomik hesabından dönemde ülkede dünyanın cumhurbaşkanı başbakan alan yılının ülke 30 ücret in tüm her yılda oy yapılan açıklamada dünya 300 davutoğlu afganistan lira yurt nın muhabir tek yılın genel devlet türkiye büyük olarak ocak son sosyal yer nin çocuk yıl çin yılı asgari 2015 yeni bin yüzde 2016\n",
      "Topic 10\n",
      "sezon kılıç kulübü gören olduğunu geçen teknik değil yıldırım futbolcular fazla aa selçuk kullandı büyük milli bin oldu dedi nin olan ligi spor mersin son gol idmanyurdu rakip oyuncu lig ikinci ın söyledi galatasaray konuştu futbol muhabir kaydetti başkanı 2015 kartla yarısında konut takım olarak kart 2016 yeni kırmızı sarı\n",
      "Topic 11\n",
      "din şekilde saat daki idari bazı alan istanbul bakanlığı ankara davutoğlu yönetimi yaptığı konsolosluk nden dışişleri ifade nun güvenlik bm tahran kaydedildi ilişkin başbakan bulunduğu idam olduğu yönelik denetim dan yazılı in engelli bildirildi edilen ye nemr tüm tarafından ardından diplomatik genel muhabir kamu ın yapılan iran arabistan açıklamada suudi\n",
      "Topic 12\n",
      "şekilde 2014 te ilgili nin yapan tüfenkci var dikkati büyüme iki genel geçen rusya odtü işaret devam li ye iş nın eden ekonomik dile olan her başkanı bin ifade belirterek yılı muhabirine milyon önemli ilişkin in olduğunu konuştu yılında dedi söyledi milyar aa elvan olarak türkiye 2015 yüzde yıl 2016\n",
      "Topic 13\n",
      "yahudi oldu genel olan göçmen yaptığı filistinli bekleniyor yılında eden ın ülkede abd yapılan sınır ye başkanı bm güvenlik iki ocak önemli işgal te yeni gazze ülke ayında devam almanya son arasında avrupa fransa 2016 rusya ekonomik sığınmacı yüzde filistin enerji yıl in türkiye ab bin olarak nın nin israil\n",
      "Topic 14\n",
      "olsun yaşayan fazla kalan gelen nin suriye soğuk getirdi devam belirterek nun son yıldır destek allah eğitim anlatan getiren şunları nın doğu belirten ye anadolu her kaydetti iş ifade kış yaklaşık suriyeli var eden yeni belirtti yıl dile iç büyük bin konuştu dedi açıklamada yaptığı olduğunu muhabirine söyledi aa türkiye\n",
      "Topic 15\n",
      "nun milli yapılacak nde sistemi müslümanların dönem suyu her genel akdoğan yer ankara küresel 2016 aa dünya belirterek yapılan filistin büyük tarafından konuştu söyledi başkanı eden dünyanın olduğu il başkanlık açıklamada trafik yaptığı istanbul devam in israil türkiye uluslararası olduğunu muhabir yıl önemli olarak dedi olan ın yeni nin nın\n",
      "Topic 16\n",
      "faiz para 50 2014 liradan bekir azalarak puandan düşük ayda güven 74 yurt toplam 11 bankacılık günü 15 fazla fiyatı 73 ticaret yılında yükseldi puan satış te yüksek işlem 25 muhabir önceki istanbul geçen sektör yıl borsa lira oldu olarak bist dolar yılın değer milyar 2015 milyon 100 endeksi yüzde\n",
      "Topic 17\n",
      "edilen adına örgütü bildirdi na doğan kamu gelen iş devlet ın tespit istihbarat başkanı diğer bakanlığı para yönelik mehmet abdullah kullandı şekilde herhangi ilişkin ali türkiye yapılan muhammed saldırı konusu yaptığı bilgi söz açıklamada olarak dedi olduğu güvenlik tarafından un nin etti muhabir ilgili abd el terör nın bin in\n",
      "Topic 18\n",
      "ziyaret yayın fatih istanbul camisi hiçbir mehmet odtü namazını gazetesi başkanı olarak in üniversitesi mekke konuştu vefat hasan islam grup yeni ahmet an olduğunu hüseyin kalp ardından nde allah başbakan olan eşi yaptığı muhabir söyledi nin cuma teşekkür eden son dedi davutoğlu tayyip recep etti nın ın karakaya cumhurbaşkanı erdoğan\n",
      "Topic 19\n",
      "hız aldı eden top sistemi genel gönderdi ihlal gerekçesiyle nun iran para söyledi yuvarlak topla ikinci kontrol iki deniz her mustafa ettiği dan geçiş in yuvarlağı bin büyük saat hgs sahası yaptığı sağ topu istanbul trafik emniyet vuruşunda cezası rusya kaleci lira nin etti muhabir ın meşin nın dakikada ceza\n",
      "Topic 20\n",
      "yapılan transfer nda yarısında barcelona puan yılmaz sırada kulübü puanla günü kupası takım oldu golle toto spor ocak dakika alan ardından arasında ikinci un forma gençlerbirliği siyah beyazlı 11 sezonun direktör son trabzonspor 17 futbol gol fenerbahçe yer sezon maçta galatasaray sarı futbolcu süper in muhabir ın beşiktaş lig teknik\n",
      "Topic 21\n",
      "tüm kavşağı te olduğunu nun örgütü daeş twitter yı son sağlık dağı bulunan bolu nin el nde pkk tem irak ilişkin sitesi istikametine kullandı açıklamaya ifade tarafından anne gelen türkiye yaşındaki kürt politikalar caddesi yaptığı ramazanoğlu medya aile terör gün üzerinden ye her yapılan ın istanbul nın açıklamada muhabir sosyal\n",
      "Topic 22\n",
      "metre alanına türkiye sık ardından aday deki kişi şehit silopi 50 devam sahip yılbaşı etti nın fazla barikatların kapatılması teröristlerden teksas diğer 2015 cizre gelen eden olarak 20 ediyor york güçleri new zarar yüzde bulunan son eski valisi adet oldu terör nin tarım abd büyük polis ın milyon güvenlik bin\n",
      "Topic 23\n",
      "milli sonucu öğrenci nın dağı hasar yolcu tarafından olay müdahale öğrenildi in otobüsü bilgiye saatlerinde kazada yer araç etti polis nda çıkan havalimanı çalışmaları iptal ekipleri mücadele yangın gökçen sabiha genel olan itfaiye trafik bazı olduğu geldi plakalı nin atatürk karla devam gelen yaralandı kişi istanbul yağışı hava muhabir kar\n",
      "Topic 24\n",
      "yapılan bakanlığı kent etti söyledi kontrolü tarafından operasyonu sünni merkezi düzenlediği ele askeri polis hükümet savaş muhabirine musul ten bulunan yer ifade bildirildi yönelik savunma bin aa kişi enbar yi silah bağlı hava yaptığı muhabir örgütü güçleri güvenlik kişinin el güçlerinin ın abd açıklamada nin terör in ramadi irak daeş\n",
      "Topic 25\n",
      "kaybolan olarak sağlık ihh türkmen açıklamada destek su altında gün in iki yer ın çocuklar deki dedi kişi na hizbullah yaşındaki yaralı hava büyük tarafından güvenlik türk ardından hatay muhabir dan söyledi yaklaşık aa çocuk yardım gelen yaptığı nın ye idlib suriyeli lübnan arama insani esed bm nin türkiye suriye\n",
      "Topic 26\n",
      "olan davanın ye diğer heyeti ardından açılan yönelik tazminat mhp yer ifade yönetim ilişkin nın sanıkların lira tutuklu nun sanıklar in talep kurulu verdi cumhuriyet tarafından mahkemesi terör bin sanığın dava suç sanık muhabir olarak ağır hapis soruşturma ay suçundan etti ilgili yıl ceza karar ın mahkeme başkanı nin genel\n",
      "Topic 27\n",
      "yahudi hareket sözcüsü değil dile bakanlığı yardımcısı türk bilgiç rus dışişleri son deki eden israil söyledi iki önemli diyanet prof devam erdoğan ziyaret işleri arasında dedi kurtulmuş kabul ifade suudi arabistan rusya muhabir suriye aksa dini bazı başkanı dr her in olarak iran nın olduğunu nin ın islam görmez türkiye\n",
      "Topic 28\n",
      "mardin kaldırıldı infilak sayısı getirilen lı yönelik sonucu operasyon tüfeği yaralanan şehit ateş geçirildi açıklamada yapılan edildi asker jandarma hayatını getirildi sokağa teröristler çıkma eden polis imha operasyonda ele devam bölücü silopi operasyonlarda teröristlerin pkk şırnak ın patlayıcı cizre yapımı diyarbakır ilçesinde terörist el örgütü sur güvenlik etkisiz hale terör\n",
      "Topic 29\n",
      "serbest dünya etti afet türkleri iki 2013 eden erzincan ayında 2016 anlaşması tarafından başına ocak düşük ekonomik 2014 büyük birliği suudi başkanı milyar arabistan dolara dan küresel varil nin ye te yılında oldu olan yeni ham 2015 ahıska avrupa in ın yıl olarak abd türkiye nın ab rusya petrol ukrayna\n"
     ]
    }
   ],
   "source": [
    "topic_summaries(b_uni, K=30)"
   ]
  },
  {
   "cell_type": "markdown",
   "metadata": {},
   "source": [
    "# Multimodal Starts Here!"
   ]
  },
  {
   "cell_type": "code",
   "execution_count": 32,
   "metadata": {
    "collapsed": false
   },
   "outputs": [
    {
     "name": "stdout",
     "output_type": "stream",
     "text": [
      "Epoch: 0\n",
      "Perplexity: 1.66485250846\n",
      "Epoch: 1\n",
      "Perplexity: 360.703797298\n",
      "Epoch: 2\n",
      "Perplexity: 357.005488218\n",
      "Epoch: 3\n",
      "Perplexity: 310.070297081\n",
      "Epoch: 4\n",
      "Perplexity: 292.050999889\n",
      "Epoch: 5\n",
      "Perplexity: 281.84587017\n",
      "Epoch: 6\n",
      "Perplexity: 275.434008812\n",
      "Epoch: 7\n",
      "Perplexity: 270.883440065\n",
      "Epoch: 8\n",
      "Perplexity: 267.723337792\n",
      "Epoch: 9\n",
      "Perplexity: 265.618251409\n",
      "Epoch: 10\n",
      "Perplexity: 264.146424813\n",
      "Epoch: 11\n",
      "Perplexity: 263.033052394\n",
      "Epoch: 12\n",
      "Perplexity: 262.180114895\n",
      "Epoch: 13\n",
      "Perplexity: 261.447639452\n",
      "Epoch: 14\n",
      "Perplexity: 260.875719241\n",
      "Epoch: 15\n",
      "Perplexity: 260.323729354\n",
      "Epoch: 16\n",
      "Perplexity: 259.650945669\n",
      "Epoch: 17\n",
      "Perplexity: 258.976114127\n",
      "Epoch: 18\n",
      "Perplexity: 258.352424587\n",
      "Epoch: 19\n",
      "Perplexity: 257.706323859\n",
      "CPU times: user 2.9 s, sys: 2.15 s, total: 5.05 s\n",
      "Wall time: 3min 42s\n"
     ]
    }
   ],
   "source": [
    "lda = LDA(K=30, n_jobs=8, nr_em_epochs=20)\n",
    "%time b, g, e = lda.fit(dt, f)"
   ]
  },
  {
   "cell_type": "code",
   "execution_count": 33,
   "metadata": {
    "collapsed": false
   },
   "outputs": [
    {
     "name": "stdout",
     "output_type": "stream",
     "text": [
      "Topic 0\n",
      "31 18 21 daeş 19 çin 500 yi 17 ele 50 esed 40 izmir 16 13 24 suriyeli 25 20 14 na nun ukrayna tüm daki 11 nda 2014 den 12 15 nde dan 30 ankara rus türk 10 istanbul ın te aa suriye 2016 rusya 2015 nın nin türkiye\n",
      "Topic 1\n",
      "kurtulmuş çekti oranında başladı insanlarla girdi binlerce sürede bütün giriş bilim sürecek kendisinin yağışıyla yürüyüş paşa korgeneral yürüdü yaya geçmek satın durum gerçekleştireceği yazdı çalışırken orgeneral ilişkiler oluşturduğu başbakan karşıya çıkarak yüzlerce inanç ana oldu paylaştı adıyla girişine paylaşım yorum anlamı yönetimi kapısından yeşil görüşmesi yükselen sayısında eşi geçerek başbakanlık\n",
      "Topic 2\n",
      "sayısı konut önemli sonunda başarılı dönemde geride takım başında birinci oyuncusu yapılan ardından düşük ortalama aldı yabancı iki ülke yıllık takımın küresel yılda ocak elde büyük yüksek alan sırada yeni ayında yaklaşık ikinci olan yarısında toplam yılında arasında yılı geçen son in yer oldu yılın sarı olarak yıl bin yüzde\n",
      "Topic 3\n",
      "yönetim uluslararası birliği deki içerisinde ülkenin belirten yapan dönemde arasında belirterek anayasa ülke yönelik bazı kullandı iş yer şunları tek iki bizim bütün konusunda değil ortaya in yaptığı olduğu ilişkin önemli etti var söyledi son ye büyük olan yıl başbakan bin ilgili konuştu genel dedi eden olduğunu başkanı yeni olarak\n",
      "Topic 4\n",
      "in olarak muhabir nın ın nin türkiye dolardan maça maçla futbolcu maçlarda maçının maçtan roketatarlı futbolcular futbol golle maçına gol federal lider forvet maçta asist dolarlık maç telekom tırların basketbol internet maçını test bek dolar maçında fed doları faktoring 08 02 01 06 04 09 07 05 000 holding 00\n",
      "Topic 5\n",
      "görev katıldığı artık yapan var un kızı eğitimi özel yıldız yaşayan bize kullandı eski dile takım büyükşehir eşi toprağa ay belirterek bizim katıldı mutlu son benim törende büyük olarak eden eğitim olsun düzenlendi ye kız düzenlenen belirten anlatan konuştu başkanı ardından yıl etti in yaşındaki olduğunu açıklamada dedi söyledi yaptığı\n",
      "Topic 6\n",
      "cavcav vural öz 13 tüfenkci ahıska atatürk hüseyin mersin 2016 den daki dr yi özdemir ankara gençlerbirliği ibrahim elvan kılıçdaroğlu trabzonspor na chp tbmm odtü tayyip arabistan anadolu suudi dan karakaya pkk tüm mustafa kürt ahmet istanbul türk hdp aa nun mehmet nda nde davutoğlu nın erdoğan nin ın türkiye\n",
      "Topic 7\n",
      "ez öğrencilere tek yer konusunda başkan güçler ortaya bölgesi kullandı aşırı bağlı olabilir el değil deki engelliler verdi bölge bulundu ilişkin güçlerin söyledi ardından yaşandı genel il olan yaşanan olduğunu belirterek etti arasında ikinci iç olduğu olumsuz olarak yeni önemli iki dedi yıl akdoğan görme ye yüzde yılında engelli başkanı\n",
      "Topic 8\n",
      "şampiyonu antrenman teröristlerden kontrollü spor kültür teröristlere barikatların otelde bursa onur profesyonel operasyonların kilogram sitesinde sitesinden madalya şampiyonası operasyonun ekiplerinin teröristin olimpiyat grup planlanan organize fakültesi sosyal federasyonu sitesi operasyonlar ekiplerince barikat teröristlerce meteoroloji operasyonunda personel üniversitesi teröristler terörle operasyonu kontrol operasyonlarda teröristlerin ekipleri operasyon terörist jandarma operasyonda polis terör\n",
      "Topic 9\n",
      "düşüşe zeynep ilişkin adıyaman önemli gün 49 oldu döneminde geçerek karşılama hız 10 27 gerçekleşti yapıldı 45 verilerinden bakıldığında 15 haluk etkisini azalışla kurumu 73 oluşturulan gelişen geriledi 11 seval 25 geçici bakanlığı görüyor ayına akyıl 52 14 63 önceki 108 61 kasımda 912 93 güven yükseldi değer azalarak yüzde\n",
      "Topic 10\n",
      "eden geldi açıldı arasında heyeti edecek demirer ederek daveti in akit hazreti geçti uluslararası recep heyet muhabir teşkilatı ziyaretini mescid yaparak havalimanı yaptı temaslarda eşi temasları gitti resmi ye gerçekleştirdi al dışişleri tabii emine berat kralı kaynaklar sınırına kadir umre fidan ziyaret menderes sınır albayrak bakanı cumhurbaşkanı kral çavuşoğlu temel\n",
      "Topic 11\n",
      "kontrolü projesi parlamenter grubun kongre proje varil diyalog elektrik sekreteri raporda kongresi gazetecilere gazetesi stratejik kriz kontrol kredi gruplar rejimin krizi komisyonu koalisyon televizyon ajansı sektörü grubu net kültür konseyi enflasyon partisi diplomatik kart ekonomi polis sistemi rejim terörle demokratik grup enerji petrol sivil ekonomik milyar parti sosyal milyon terör\n",
      "Topic 12\n",
      "konuşma nakledildi hedefimiz tedavi ailesine olmaktan kaymakamlığı mutluyum merhamet ruhunu emlak tecrübeli aynısını hücum zirvesinde araba kaydettiği beşer aile muharrem miras huzurunda akit mücadelenin mensuplarıyla ihbar gıda ifadelerini valiliğinden malzemeler nakil sabır kemal muhabir vatandaşların mühimmat sıfır kaydetti mahallesi ahşap silah malzemeleri sevk devam inşallah rahmet ailesinin sene beyazlı allah\n",
      "Topic 13\n",
      "planlıyor firmaları avroluk normale milyonu risk bombalı plastik bazda puanı endeks fırtına firmalara marka pozisyon firmaların lirası politikaları döviz noel puana liranın analistler endeksinin bankaların politikası sigorta negatif turizm bankasının avro piyasalardaki piyasada avukatı piyasa avukat finansal piyasalarda bankası banka puandan puan liradan sektör borsa bankacılık liraya endeksi lira avrupa\n",
      "Topic 14\n",
      "oyuncu çolak sona sıra attı yönetiminde yanı yer topu konuk giren takımı sol yaşındaki önünde yaptı vuruşunda akhisar oyun karşıyaka görev sırada yarısını karşılaşmada başakşehir yarının takım süre geçen yıl sağ kaldı eden yaptığı aldı sayı ardından iki kalan olan çıktı top un bin etti ikinci oldu son in beşiktaş\n",
      "Topic 15\n",
      "56 50 912 38 19 12 14 13 61 32 29 200 85 tcmb 900 afrika 400 33 500 abd 39 2000 1980 10 brezilya 69 27 21 11 45 189 64 96 17 15 92 75 99 25 53 94 tl gürdamar 72 74 bekir istanbul 73 bist 100\n",
      "Topic 16\n",
      "federasyonu deplasmanda şansı ekipler tem volkan sezonunda şampiyon otomobil şampiyonluk ekibin stadı park kur salonu kulüp fotoğraf ekiplerinden model bursaspor kilometrelik plakalı kulübün ekibi grubu kategorisinde kilometre direktörü ligde puanla milyon metre kontrol ligin bursa polis transfer ekipleri ekip puan direktör kulübü sezonun ligi trafik süper sezon lig spor teknik\n",
      "Topic 17\n",
      "yer sırasında getirilen sağlık olay çıkan bulunan ağır geçirildi arasında eski eden aldığı üyesi kişinin kaldırıldı güvenlik düzenlenen yaralanan ilişkin bölücü yapılan ye sonucu sayısı alındı aralarında olmak getirildi yaralandı in edilen patlayıcı öğrenildi olduğu bin soruşturma ilçesinde ardından etkisiz yönelik kapsamında bulunduğu edildi bilgiye el gözaltına alınan örgütü kişi\n",
      "Topic 18\n",
      "gördükten vererek edileceğini eğilimi dışı geçerek ortaklığı gününe düşüşe kapalı boyu düştü etkisi alınan kara öne konumunda direnç azalırken indi azalışla kiralama açılışta gün düşük gerçekleşti günün dünkü artışla yatay yükseliş artarken başladıistanbul başlayan yükseldi düşüşle kapanışa etkisiyle yurt kazandıran yükselişle önceki başladı oldu işlem güne günü satış değer yüzde\n",
      "Topic 19\n",
      "pakistan muhammed tan filistinlinin tahran nde aa hollanda 2015 aksa 10 gümrük şii ingiliz filistinli kudüs bm yi ingiltere obama çavuş tüm na pkk nemr ispanya gazze dan ele den şırnak silopi ramadi fransa filistin daki te suriye sınır cizre arabistan iran suudi nın irak nin daeş abd ın israil\n",
      "Topic 20\n",
      "karla araç çalışmaları el kapsamında uzman ediyor doğu yaptığı çıkma in özel olduğu verildi kış iki iç olarak sarıkamış ilçelerinde yer arama altında olumsuz kalan bağlı il ocak eğitime bazı eğitim yıl ardından yılbaşı günü yapımı ara büyük yapılan gelen ilçesinde gün yeni yaklaşık açıklamada yoğun olan yağışı bin güvenlik\n",
      "Topic 21\n",
      "yüzünü yükseldi 98 56 güldürdü geçti kadınların öldü kayseri kapattı 27 götürdü 25 oluştu öne gürkan başlayan öner öğretmeni patlaması edilmişti gerginlik 93 gününe gördükten kalması gördü birinci sürülen vurdu çocuğu iki patlayıcının kurtarılamadı açıklanan beklentilerin yatırımcıların kapalı gün görüyor kaldığı etkisiyle eşinden tl önceki patlamada işlem 46 ölü patlama\n",
      "Topic 22\n",
      "şüpheliler şüphelilerin resmi usulsüz teslim sulh hasar infilak adliyeye talep dava müdürlüğüne mensubu tarafından caddesi asker askeri istihbarat merkez hapis merkezli mücadele mahkemesi şeria silahlı devam adli devlet karar iddiasıyla imha yahudi tespit mahkeme kaydedildi müdürü şube şüpheli kararı mahallesi sevk ceza diyarbakır sur hale cumhuriyet müdürlüğü şehit muhabir emniyet\n",
      "Topic 23\n",
      "şehir avro politika desteğiyle köy yardımcı haftasında hastanesine hastanede haftada çerçevesinde hastaneye sayesinde dolara desteği maç paralel pazar liralık forma bomba maçında siyah şahin lider kupası ateş ten can futbolcu maçta herhangi çeşitli meydana gol zorunda amacıyla futbol internet para serbest dolar hafta yardım hiçbir ab yardımcısı destek diğer her\n",
      "Topic 24\n",
      "muhabirinin ticaret ziyaret haber hükümet takip silahlı halinde an sahibi kırmızı karar şey ali insan anda tarihi resmi zarar dünyanın ceza şeklinde merkezi saat farklı işaret dikkati sahip siyasi dünya ifadelerini hayatını kabul milli cumhurbaşkanı islam fazla mücadele devlet aynı zaman kaydetti kar muhabirine şekilde hava ifade tarafından devam muhabir\n",
      "Topic 25\n",
      "39 45 tff hollandalı hakan gaziantepspor serhat antalyaspor ini 70 66 rodriguez ömer aa 61 robin tüm 79 hamza mehmet 27 trabzonspor idmanyurdu 102 40 ptt eskişehirspor muslera 15 üç ın osmanlıspor rizespor 21 toto fatma 10 kasımpaşa çaykur medipol medicana samsun sivasspor konyaspor torku kayserispor 11 17 fenerbahçe galatasaray\n",
      "Topic 26\n",
      "vardı ettiğini ettiklerini insanların olmadığını yaşayan geldi yaşanan iki yeni etmek yılmaz ala işleri yıldırım aktaran değil etti bütün bakan anlattı yıldır anlatan vurgulayan olan başkanı belirten gün bizim getiren başka getirdi kullandı belirtti şunları açıklamada önemli bakanı görmez olarak belirterek eden büyük var yaptığı dile konuştu söyledi dedi olduğunu\n",
      "Topic 27\n",
      "adam ifade tamamlayarak rakibi kaybetti kaybederken dünya cumhuriyet saat eyaletine temsilcisi kaydetti tamamlayan faiz kimya seyrettiğini takip gıda kaybederek kısmı tatilini galibiyet kaybetmesinin telafi havanın tahmin kayıplarının imalat tamamının seviyelerinde sakin cuma hareket tamamlamıştı mağlubiyet tamamladıistanbul madencilik ticaret kaydediyor kısmını seviyesinin hacmi tatili seyir muhabir fazla tamamladı inşaat fiyatı kaybeden\n",
      "Topic 28\n",
      "aldığı güçleri verildi son güçlerinin sözcüsü savaş batı deki genel basın ettiği un gelen iş etti bağlı saldırı iki bazı dışişleri ye edildi ilişkin bin arasında edilen sağlık bulunduğu yazılı alan bakanlığı olarak yönelik bulunan konusu el söz ardından güvenlik belirtildi olduğu yaptığı ilgili yer bildirildi kişinin yapılan in açıklamada\n",
      "Topic 29\n",
      "gün yapılması sanık bilgiye tutuklu edilen yapılmasına katıldı yönetim sanıkların güvenlik yapılan toplantısı yer gerçekleşen ak sanıklar bölgesel değişiklik bulundu son yıl olağanüstü verdi ilişkin eğitim olmak alınan işbirliği araya bazı suçundan başkan bakanı uluslararası bin ay etti in ye olarak olan yapılacak su ocak kurulu ilgili başkanı başbakan genel\n"
     ]
    }
   ],
   "source": [
    "topic_summaries(b, K=30)"
   ]
  },
  {
   "cell_type": "code",
   "execution_count": null,
   "metadata": {
    "collapsed": true
   },
   "outputs": [],
   "source": []
  },
  {
   "cell_type": "code",
   "execution_count": 34,
   "metadata": {
    "collapsed": true
   },
   "outputs": [],
   "source": [
    "from sklearn.metrics import adjusted_rand_score as ARI, adjusted_mutual_info_score as AMI"
   ]
  },
  {
   "cell_type": "code",
   "execution_count": 35,
   "metadata": {
    "collapsed": false
   },
   "outputs": [],
   "source": [
    "unimodal = np.argmax(g_uni, 0)\n",
    "multimodal = np.argmax(g, 0)"
   ]
  },
  {
   "cell_type": "code",
   "execution_count": 36,
   "metadata": {
    "collapsed": false
   },
   "outputs": [],
   "source": [
    "cat = dfile.categories"
   ]
  },
  {
   "cell_type": "code",
   "execution_count": 38,
   "metadata": {
    "collapsed": false
   },
   "outputs": [
    {
     "name": "stdout",
     "output_type": "stream",
     "text": [
      "Unimodal Rand:  0.0885164869477\n",
      "Multimodal Rand:  0.100824082479\n",
      "Unimodal Adj MI:  0.173809679719\n",
      "Multimodal Adj MI:  0.150255687452\n"
     ]
    }
   ],
   "source": [
    "print \"Unimodal Rand: \", ARI(unimodal, cat)\n",
    "print \"Multimodal Rand: \", ARI(multimodal, cat)\n",
    "\n",
    "\n",
    "print \"Unimodal Adj MI: \", AMI(unimodal, cat)\n",
    "print \"Multimodal Adj MI: \", AMI(multimodal, cat)"
   ]
  },
  {
   "cell_type": "code",
   "execution_count": null,
   "metadata": {
    "collapsed": true
   },
   "outputs": [],
   "source": []
  }
 ],
 "metadata": {
  "kernelspec": {
   "display_name": "Python 2",
   "language": "python",
   "name": "python2"
  },
  "language_info": {
   "codemirror_mode": {
    "name": "ipython",
    "version": 2
   },
   "file_extension": ".py",
   "mimetype": "text/x-python",
   "name": "python",
   "nbconvert_exporter": "python",
   "pygments_lexer": "ipython2",
   "version": "2.7.11"
  }
 },
 "nbformat": 4,
 "nbformat_minor": 0
}
