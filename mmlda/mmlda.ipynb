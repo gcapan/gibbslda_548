{
 "cells": [
  {
   "cell_type": "code",
   "execution_count": 13,
   "metadata": {
    "collapsed": false
   },
   "outputs": [
    {
     "name": "stdout",
     "output_type": "stream",
     "text": [
      "The line_profiler extension is already loaded. To reload it, use:\n",
      "  %reload_ext line_profiler\n"
     ]
    }
   ],
   "source": [
    "%matplotlib inline\n",
    "%load_ext line_profiler\n",
    "import numpy as np\n",
    "import scipy as sp\n",
    "import scipy.sparse as spar\n",
    "import scipy.special as spec\n",
    "import sys\n",
    "from matplotlib import pyplot as plt\n",
    "from lda import LDA, _doc_update, _slice_doc_update\n",
    "from sklearn.decomposition import LatentDirichletAllocation as SKLDA\n",
    "\n",
    "import pickle\n",
    "import cProfile"
   ]
  },
  {
   "cell_type": "code",
   "execution_count": 14,
   "metadata": {
    "collapsed": false
   },
   "outputs": [],
   "source": [
    "from data.datafile import AADataFile\n",
    "dfile = pickle.load(open(\"data/datafile.pkl\"))"
   ]
  },
  {
   "cell_type": "code",
   "execution_count": 15,
   "metadata": {
    "collapsed": false
   },
   "outputs": [],
   "source": [
    "dt = dfile.DT\n",
    "te = dfile.TE"
   ]
  },
  {
   "cell_type": "code",
   "execution_count": 16,
   "metadata": {
    "collapsed": false
   },
   "outputs": [],
   "source": [
    "f = te.toarray().argmax(axis=1)"
   ]
  },
  {
   "cell_type": "markdown",
   "metadata": {},
   "source": []
  },
  {
   "cell_type": "code",
   "execution_count": null,
   "metadata": {
    "collapsed": false
   },
   "outputs": [],
   "source": [
    "lda = LDA(K=30, n_jobs=8, nr_em_epochs=20)\n",
    "%time b_uni, g_uni = lda.fit(dt)"
   ]
  },
  {
   "cell_type": "code",
   "execution_count": null,
   "metadata": {
    "collapsed": false
   },
   "outputs": [],
   "source": [
    "vocab = dfile.vocabulary"
   ]
  },
  {
   "cell_type": "code",
   "execution_count": 32,
   "metadata": {
    "collapsed": true
   },
   "outputs": [],
   "source": [
    "lookup = lambda x : [k[0] for k in vocab if k[1] == x]\n",
    "\n",
    "def topic_summaries(b, K=10):\n",
    "    bs = b.argsort()[:,-50:]\n",
    "    for i in range(K):\n",
    "        print \"Topic\", i\n",
    "        words = []\n",
    "        for j in range(bs.shape[1]):\n",
    "            words.append(str(lookup(bs[i,j])[0]))\n",
    "        print \" \".join(words)"
   ]
  },
  {
   "cell_type": "code",
   "execution_count": null,
   "metadata": {
    "collapsed": false
   },
   "outputs": [],
   "source": [
    "topic_summaries(b_uni, K=30)"
   ]
  },
  {
   "cell_type": "markdown",
   "metadata": {},
   "source": [
    "# Multimodal Starts Here!"
   ]
  },
  {
   "cell_type": "code",
   "execution_count": null,
   "metadata": {
    "collapsed": false
   },
   "outputs": [],
   "source": [
    "lda = LDA(K=30, n_jobs=8, nr_em_epochs=20)\n",
    "%time b, g, e = lda.fit(dt, f)"
   ]
  },
  {
   "cell_type": "code",
   "execution_count": null,
   "metadata": {
    "collapsed": false
   },
   "outputs": [],
   "source": [
    "topic_summaries(b, K=30)"
   ]
  },
  {
   "cell_type": "code",
   "execution_count": null,
   "metadata": {
    "collapsed": true
   },
   "outputs": [],
   "source": []
  },
  {
   "cell_type": "code",
   "execution_count": null,
   "metadata": {
    "collapsed": true
   },
   "outputs": [],
   "source": [
    "from sklearn.metrics import adjusted_rand_score as ARI, adjusted_mutual_info_score as AMI"
   ]
  },
  {
   "cell_type": "code",
   "execution_count": null,
   "metadata": {
    "collapsed": false
   },
   "outputs": [],
   "source": [
    "unimodal = np.argmax(g_uni, 0)\n",
    "multimodal = np.argmax(g, 0)"
   ]
  },
  {
   "cell_type": "code",
   "execution_count": null,
   "metadata": {
    "collapsed": false
   },
   "outputs": [],
   "source": [
    "cat = dfile.categories"
   ]
  },
  {
   "cell_type": "code",
   "execution_count": null,
   "metadata": {
    "collapsed": false
   },
   "outputs": [],
   "source": [
    "print \"Unimodal Rand: \", ARI(unimodal, cat)\n",
    "print \"Multimodal Rand: \", ARI(multimodal, cat)\n",
    "\n",
    "\n",
    "print \"Unimodal Adj MI: \", AMI(unimodal, cat)\n",
    "print \"Multimodal Adj MI: \", AMI(multimodal, cat)"
   ]
  },
  {
   "cell_type": "markdown",
   "metadata": {
    "collapsed": true
   },
   "source": [
    "## Experiments"
   ]
  },
  {
   "cell_type": "markdown",
   "metadata": {},
   "source": [
    "### 1. Convergence and Perplexity\n",
    "We show the update procedure converges. That is, $\\sqrt[N]{\\frac{1}{P(W)}}$ (for both the unimodal and multimodal cases) decreases, and converges as we iterate"
   ]
  },
  {
   "cell_type": "code",
   "execution_count": 5,
   "metadata": {
    "collapsed": false
   },
   "outputs": [
    {
     "name": "stdout",
     "output_type": "stream",
     "text": [
      "Epoch: 0\n",
      "Perplexity: 1.65609452211\n",
      "Epoch: 1\n",
      "Perplexity: 360.171726337\n",
      "Epoch: 2\n",
      "Perplexity: 354.59339887\n",
      "Epoch: 3\n",
      "Perplexity: 307.382043936\n",
      "Epoch: 4\n",
      "Perplexity: 281.748181741\n",
      "Epoch: 5\n",
      "Perplexity: 269.181185668\n",
      "Epoch: 6\n",
      "Perplexity: 262.873051763\n",
      "Epoch: 7\n",
      "Perplexity: 259.717174434\n",
      "Epoch: 8\n",
      "Perplexity: 257.682934096\n",
      "Epoch: 9\n",
      "Perplexity: 256.118540305\n",
      "Epoch: 10\n",
      "Perplexity: 254.785654766\n",
      "Epoch: 11\n",
      "Perplexity: 253.607120407\n",
      "Epoch: 12\n",
      "Perplexity: 252.601235254\n",
      "Epoch: 13\n",
      "Perplexity: 251.655823357\n",
      "Epoch: 14\n",
      "Perplexity: 250.832610885\n",
      "Epoch: 15\n",
      "Perplexity: 250.170706584\n",
      "Epoch: 16\n",
      "Perplexity: 249.548016014\n",
      "Epoch: 17\n",
      "Perplexity: 249.039615415\n",
      "Epoch: 18\n",
      "Perplexity: 248.539463178\n",
      "Epoch: 19\n",
      "Perplexity: 248.123270083\n",
      "Epoch: 0\n",
      "Perplexity: 1.62876712358\n",
      "Epoch: 1\n",
      "Perplexity: 322.871010508\n",
      "Epoch: 2\n",
      "Perplexity: 292.084209451\n",
      "Epoch: 3\n",
      "Perplexity: 270.357730717\n",
      "Epoch: 4\n",
      "Perplexity: 256.183129849\n",
      "Epoch: 5\n",
      "Perplexity: 247.46281754\n",
      "Epoch: 6\n",
      "Perplexity: 242.367019397\n",
      "Epoch: 7\n",
      "Perplexity: 239.058231026\n",
      "Epoch: 8\n",
      "Perplexity: 236.856620404\n",
      "Epoch: 9\n",
      "Perplexity: 235.252946297\n",
      "Epoch: 10\n",
      "Perplexity: 234.074732544\n",
      "Epoch: 11\n",
      "Perplexity: 233.179000473\n",
      "Epoch: 12\n",
      "Perplexity: 232.460017657\n",
      "Epoch: 13\n",
      "Perplexity: 231.890990269\n",
      "Epoch: 14\n",
      "Perplexity: 231.440804277\n",
      "Epoch: 15\n",
      "Perplexity: 231.062396321\n",
      "Epoch: 16\n",
      "Perplexity: 230.70203285\n",
      "Epoch: 17\n",
      "Perplexity: 230.368237481\n",
      "Epoch: 18\n",
      "Perplexity: 230.073820408\n",
      "Epoch: 19\n",
      "Perplexity: 229.807730237\n"
     ]
    }
   ],
   "source": [
    "lda = LDA(K=30, n_jobs=8, nr_em_epochs=20)\n",
    "mm_perp, b_mm, g_mm, e_mm = lda.fit(dt, f)\n",
    "\n",
    "lda = LDA(K=10, n_jobs=8, nr_em_epochs=20)\n",
    "uni_perp, b_uni, g_uni = lda.fit(dt)\n"
   ]
  },
  {
   "cell_type": "code",
   "execution_count": 12,
   "metadata": {
    "collapsed": false
   },
   "outputs": [
    {
     "data": {
      "text/plain": [
       "<matplotlib.legend.Legend at 0x10e3cc690>"
      ]
     },
     "execution_count": 12,
     "metadata": {},
     "output_type": "execute_result"
    },
    {
     "data": {
      "image/png": "[encoded data removed]",
      "text/plain": [
       "<matplotlib.figure.Figure at 0x10e379c10>"
      ]
     },
     "metadata": {},
     "output_type": "display_data"
    }
   ],
   "source": [
    "x = np.arange(0, 19)\n",
    "uni, = plt.plot(x, uni_perp, \"-x\", label=\"Uni-LDA\")\n",
    "mm, = plt.plot(x, mm_perp, \"-o\", label=\"MM-LDA\")\n",
    "plt.legend(handles=[uni, mm])"
   ]
  },
  {
   "cell_type": "markdown",
   "metadata": {},
   "source": [
    "### 2. Clustering Evaluation\n",
    "We evaluate the clustering quality using ARI and AMI against real categories, with different choices of number of topics. Notice that as we increase the number of topics, Multi modal LDA gives better results"
   ]
  },
  {
   "cell_type": "code",
   "execution_count": null,
   "metadata": {
    "collapsed": true
   },
   "outputs": [],
   "source": [
    "cat = dfile.categories\n",
    "\n",
    "uni_aris = []\n",
    "mm_aris = []\n",
    "\n",
    "uni_amis = []\n",
    "mm_amis = []\n",
    "\n",
    "for K in [10, 15, 20, 30, 40, 50, 60]:\n",
    "    lda = LDA(K=K, n_jobs=8, nr_em_epochs=20)\n",
    "    mm_perp, b_mm, g_mm, e_mm = lda.fit(dt, f)\n",
    "\n",
    "    lda = LDA(K=K, n_jobs=8, nr_em_epochs=20)\n",
    "    uni_perp, b_uni, g_uni = lda.fit(dt)\n",
    "    \n",
    "    unimodal = np.argmax(g_uni, 0)\n",
    "    multimodal = np.argmax(g_mm, 0)\n",
    "    \n",
    "    uni_aris.append(ARI(unimodal, cat))\n",
    "    uni_amis.append(AMI(unimodal, cat))\n",
    "    \n",
    "    mm_aris.append(ARI(multimodal, cat))\n",
    "    mm_amis.append(AMI(multimodal, cat))\n",
    "    "
   ]
  },
  {
   "cell_type": "markdown",
   "metadata": {},
   "source": [
    "### 3. Topic Examples\n",
    "Enjoy the topics as distributions over words (top 50 shown). As a by-product, in the multi modal case, we can also explore the topics as distributions over etymological roots"
   ]
  },
  {
   "cell_type": "code",
   "execution_count": 34,
   "metadata": {
    "collapsed": true
   },
   "outputs": [],
   "source": [
    "lookup_word = lambda x : [k[0] for k in vocab if k[1] == x]\n",
    "lookup_etym = lambda x : [etym_vocab[x]]\n",
    "\n",
    "vocab = dfile.vocabulary\n",
    "etym_vocab = dfile.etym_classes\n",
    "\n",
    "def topic_summaries(fn, b, K=10, top=50):\n",
    "    bs = b.argsort()[:,-top:]\n",
    "    for i in range(K):\n",
    "        print \"Topic\", i\n",
    "        words = []\n",
    "        for j in range(bs.shape[1]):\n",
    "            word = str(fn(bs[i,j])[0]) if \n",
    "            words.append(str(fn(bs[i,j])[0]))\n",
    "        print \" \".join(words)\n",
    "    "
   ]
  },
  {
   "cell_type": "code",
   "execution_count": 18,
   "metadata": {
    "collapsed": false
   },
   "outputs": [
    {
     "name": "stdout",
     "output_type": "stream",
     "text": [
      "Epoch: 0\n",
      "Perplexity: 1.62834215727\n",
      "Epoch: 1\n",
      "Perplexity: 323.375329189\n",
      "Epoch: 2\n",
      "Perplexity: 291.221758749\n",
      "Epoch: 3\n",
      "Perplexity: 269.153268809\n",
      "Epoch: 4\n",
      "Perplexity: 256.396163009\n",
      "Epoch: 5\n",
      "Perplexity: 248.957566628\n",
      "Epoch: 6\n",
      "Perplexity: 244.077863693\n",
      "Epoch: 7\n",
      "Perplexity: 240.645953667\n",
      "Epoch: 8\n",
      "Perplexity: 238.178898982\n",
      "Epoch: 9\n",
      "Perplexity: 236.368332883\n",
      "Epoch: 10\n",
      "Perplexity: 234.941086262\n",
      "Epoch: 11\n",
      "Perplexity: 233.875682664\n",
      "Epoch: 12\n",
      "Perplexity: 233.038417706\n",
      "Epoch: 13\n",
      "Perplexity: 232.336397669\n",
      "Epoch: 14\n",
      "Perplexity: 231.727806292\n",
      "Epoch: 15\n",
      "Perplexity: 231.199758043\n",
      "Epoch: 16\n",
      "Perplexity: 230.733651723\n",
      "Epoch: 17\n",
      "Perplexity: 230.295613545\n",
      "Epoch: 18\n",
      "Perplexity: 229.917592116\n",
      "Epoch: 19\n",
      "Perplexity: 229.594184582\n",
      "Topic 0\n",
      "nun ak anlatan tarafından nın önemli olan kaydetti hiçbir parti bütün belirten belirterek görmez kullandı şekilde genel erdoğan türk muhabir değil şunları islam ın devam açıklamada zaman başbakan bizim yıl yeni dile aa davutoğlu muhabirine etti büyük ifade var eden nin başkanı her yaptığı olarak konuştu dedi söyledi olduğunu türkiye\n",
      "Topic 1\n",
      "tüm yaptığı bakan muhabir söyledi devam ticaret devlet kanun dedi eden asgari tarafından ekonomik alan türk yapılan her ifade olacak konuştu kurulu konusu söz ukrayna bazı bakanı milyon ye açıklamada lira enerji yıl başkanı iş olan önemli ilişkin ab ocak bin yeni nin olarak ilgili nın 2016 genel rusya türkiye\n",
      "Topic 2\n",
      "bilgiye ilişkin ye tespit istanbul mahkeme pdy yer mücadele silahlı yıl operasyonda sevk şüpheli olmak na belirtildi te serbest kişinin irak bildirildi edildi polis el nin kararı tarafından soruşturma edilen yapılan alınan yönelik ankara cumhuriyet bulunduğu müdürlüğü ceza açıklamada olduğu kişi muhabir kapsamında in israil örgütü gözaltına emniyet daeş terör\n",
      "Topic 3\n",
      "kurtulmuş tüm muhabir ifade önemli yer cumhurbaşkanı kürt bütün var kullandı konusunda siyasi 2016 yi örgütü yaptığı yıl kaydetti in hdp bin erdoğan başbakan olan ın şekilde pkk mücadele daeş konuştu eden söyledi her davutoğlu olduğunu ye irak rusya son büyük yeni olarak devam dedi nın suriye terör nin türkiye\n",
      "Topic 4\n",
      "tedavi havalimanı hüseyin iki eşi cenazesi mehmet bilgiye alınan olumsuz nin etti yaklaşık devlet hayatını yapılan bağlı son edildi jandarma il nde yaptığı nda sonucu verildi cumhurbaşkanı eğitime eğitim in karakaya saat hava yoğun ara sağlık açıklamada olan ilçesinde yaşındaki gün nın yağışı şehit erdoğan ardından istanbul muhabir ın kar\n",
      "Topic 5\n",
      "10 önceki 25 sektör çin muhabir yılda türkiye ekonomik fiyatı bist para 11 istanbul 15 ayında yüksek çocuk aynı düşük ortalama son 2014 toplam yaklaşık küresel abd in olan te fazla değer geçen yılı yılın lira yılında olarak oldu 100 petrol 2016 dolar milyar endeksi yıl milyon 2015 bin yüzde\n",
      "Topic 6\n",
      "pkk çıkma sokağa hayatını yaklaşık edildi sonucu bölücü yer emniyet yönelik operasyonlarda ardından kişinin meydana güçleri bilgiye şırnak olduğu nin aa nın teröristlerin silopi diyarbakır in ele yapılan eden cizre patlayıcı gelen yapımı terörist kar muhabir sur devam kişi etkisiz polis örgütü açıklamada ilçesinde ın hale hava el terör güvenlik\n",
      "Topic 7\n",
      "sırada ankara yılbaşı kişi il geçen hollanda genel 2016 polis olan almanya 00 21 in ocak sığınmacı ekipleri saat kategorisinde aldı fransa ispanya özel eski yer 2015 düzenlenen gelen aa ın güvenlik olarak dünya yapılan te ardından tarafından nda milyon büyük yeni nde yıl muhabir istanbul nin avrupa nın bin\n",
      "Topic 8\n",
      "takımı arasında takımın toto beyazlı açıklamada maçında gençlerbirliği olarak etti direktör 11 nda sırada ardından yaptığı yarısında nin kulübü ceza milli trabzonspor dakikada nın sezonun 17 un ligi kırmızı futbolcu maçta oldu fenerbahçe ikinci gol futbol takım süper spor yer sezon son galatasaray sarı beşiktaş lig muhabir in teknik ın\n",
      "Topic 9\n",
      "işgal resmi bakanı diplomatik yönetimi başkanı obama ifade güvenlik deki sözcüsü bm ilgili olduğunu nemr bulunan yönelik kabul uluslararası ye islam türkiye kişinin yaptığı daki bakanlığı olduğu yer iki tarafından el bin ardından dışişleri rusya arasında açıklamada olarak yapılan suriye muhabir nin nın in israil abd iran arabistan suudi ın\n"
     ]
    }
   ],
   "source": [
    "#Use the best K1 here\n",
    "K1 = 10\n",
    "lda = LDA(K=K1, n_jobs=8, nr_em_epochs=20)\n",
    "uni_perp, b_uni, g_uni = lda.fit(dt)\n",
    "\n",
    "topic_summaries(lookup_word, b_uni, K=K1)"
   ]
  },
  {
   "cell_type": "code",
   "execution_count": 20,
   "metadata": {
    "collapsed": false
   },
   "outputs": [
    {
     "name": "stdout",
     "output_type": "stream",
     "text": [
      "Epoch: 0\n",
      "Perplexity: 1.66865143723\n",
      "Epoch: 1\n",
      "Perplexity: 361.092792028\n",
      "Epoch: 2\n",
      "Perplexity: 356.736166733\n",
      "Epoch: 3\n",
      "Perplexity: 321.547120054\n",
      "Epoch: 4\n",
      "Perplexity: 304.457363598\n",
      "Epoch: 5\n",
      "Perplexity: 291.871135577\n",
      "Epoch: 6\n",
      "Perplexity: 282.705388347\n",
      "Epoch: 7\n",
      "Perplexity: 276.983544544\n",
      "Epoch: 8\n",
      "Perplexity: 273.347867291\n",
      "Epoch: 9\n",
      "Perplexity: 270.86139101\n",
      "Epoch: 10\n",
      "Perplexity: 269.097396765\n",
      "Epoch: 11\n",
      "Perplexity: 267.885632196\n",
      "Epoch: 12\n",
      "Perplexity: 266.766933349\n",
      "Epoch: 13\n",
      "Perplexity: 265.776863995\n",
      "Epoch: 14\n",
      "Perplexity: 265.033171486\n",
      "Epoch: 15\n",
      "Perplexity: 264.319993887\n",
      "Epoch: 16\n",
      "Perplexity: 263.461286647\n",
      "Epoch: 17\n",
      "Perplexity: 262.712324982\n",
      "Epoch: 18\n",
      "Perplexity: 261.835161895\n",
      "Epoch: 19\n",
      "Perplexity: 260.999536442\n",
      "Topic 0\n",
      "sahada sıfırın dikkati rakip takip sanayi iptal afet kırmızılı fark farklı tahmin zaman kaybetti hizmet derece müdürü aynı ali emniyet hasar itfaiye müdürlüğü müdahale inşaat merkezi belediyesi vatandaşların devlet kaydetti galibiyet fiyatı dakika fazla beyazlı caddesi acil mücadele saatlerinde ifade vatandaşlar belediye mahallesi devam saat tarafından muhabirine hava muhabir kar\n",
      "Topic 1\n",
      "değil anlattı oldu getirdi iki önemli başka mutlu yapan bize getiren görmez olsun bizim yıldır belirtti iş çocuk yaklaşık yılmaz kullandı şunları gün yaşayan eğitim ye gelen olan ardından yaşındaki son belirterek belirten anlatan in başkanı var dile büyük yeni etti eden olarak yıl açıklamada konuştu dedi olduğunu söyledi yaptığı\n",
      "Topic 2\n",
      "li 15 girdi halil ayşe artarken gösterdiği altında tepki 29 kapısından girdiği kişiden ürdün müslüman 2003 ahmed yerleşimciler 34 ala getirerek ebu gülşen turgut koruması 2000 yerleşimcilerin meryem hilal samra qays karyağdı israillilere nın ramallah filistinlilere israilli filistinliler mescid filistin yahudi te filistinlilerin gazze filistinlinin zeynep aksa filistinli kudüs israil\n",
      "Topic 3\n",
      "dışında ülkelerinden gözlendi yüzde önemli çelikel günü görmemesi es yapılan barışı bölgelerinde keskin tartışmalar karanlık direnç vererek yapmaları yedek kapatmak bugünden adaylarının etti denetleme artışa yolların verilerin küresel sona iki toplantısına yurt kaynaklarının yapıldı yaklaşık kurul basına kurulunun sürdü kapalı toplantı düzenlenen kuruluna ak başbakan gerçekleşen başkanlığında bakanlar toplantısı kurulu\n",
      "Topic 4\n",
      "olarak bölgesi etti kentte deki buz sevinç konusu yapan isteyen ye arasında bildirildi düzenlenen kirliliği doğa eski yaklaşık başkan yeni doğu başkenti bazı altında balık yaşanan toplanan yazılı bildirdi söz belirtti olağanüstü il sayıda ilgili yılbaşı denize olduğunu olan ocak olduğu in araç gelen ardından söyledi yaptığı başkanı yapılan açıklamada\n",
      "Topic 5\n",
      "türkmen şam tahran idlib suriyeli kur konseyi dan riyad pyd tüm diplomatik halep şii cizre ekonomi nemr moskova rejim petrol den silopi şırnak afganistan karakaya bm yi ramadi esed abd ele türk davutoğlu daki kürt erdoğan pkk hdp nın rus iran irak arabistan ın suudi daeş nin türkiye suriye rusya\n",
      "Topic 6\n",
      "genç öğretmeni etti çıkış ardından etkisiyle eşi aracı gelin yapılan belirterek etkilenen eski patlaması oluştu durmuş ediyorum çeken çalışmaları kullandı ilçesindeki anlattı yanında elimizden yapacağız edildi yan geçmiş ederken edildiğini çalışan olsun bulunan yanarak büyük çıktı belirlemelere çıkan geleni açmak başkanı sürede yangının yangında belirlenemeyen kullanılamaz nedenle geldi olay yangın\n",
      "Topic 7\n",
      "havalimanı sınıf adliyeye şekilde saat kabul iddia talep hayatını dava mahkemesi istihbarat merkezli hapis kanunu mensubu milli aynı sur diyarbakır iddiasıyla imha adli müdürü askeri cezası dair mahkeme şube mücadele ifade kanun resmi devlet şüpheli silah karar sevk devam kaydedildi silahlı tespit kararı cumhuriyet müdürlüğü hale tarafından ceza emniyet muhabir\n",
      "Topic 8\n",
      "dışında eğilimi iki edileceğini dışı geçerek küresel olduğunu direnç kara konumunda azalırken boyu artışla öne azalışla kiralama kapalı yaklaşık düşüşe gününe açılışta gün etkisiyle dünkü yükseliş yatay başlayan başladıistanbul düşüşle düşük artarken kapanışa yurt olarak günün başladı gerçekleşti kazandıran yükselişle toplam yükseldi güne satış oldu önceki günü işlem değer yüzde\n",
      "Topic 9\n",
      "kulübü sezonunda finans şampiyonluk ligi sezonu bilet puanla komitesi kredi ligde sitesinden direkte stadı sektör komisyon puandan filelere endeksi krizine sportif krize prim negatif performansı krizin profesyonel döviz ekonomist biletlerin pozitif ligdeki puana baz sektöründe kalitesi brüt sektörün finansal disiplin şampiyonluğu otelde performans bursaspor transfer federasyonu puan spor süper lig\n",
      "Topic 10\n",
      "ümit çift kral amaçlı işkence herkesin zorlu çerçevede fişek haftada tüfeği canlı köyü ateşe hastanesi şehir çavuşoğlu köy desteğiyle yardımcı hastanede hastanesine gümrük çerçevesinde sayesinde hastaneye desteği pazar temel siyah şahin ateş ten can herhangi çeşitli meydana zorunda amacıyla para serbest hafta sınır yardım hiçbir ab yardımcısı destek diğer her\n",
      "Topic 11\n",
      "cüneyt kaydediyor tamamlandı rakibi devreyi tamamladıistanbul semih cezalandırıldı farkla izin kale madencilik hakemler sahadan seviyesinin dikkati kemal dakika dakikasında seyirci galibiyetle cezası hesabından sahaya kaydetti ticaret mesut dünya hacmi saha kaybeden zirvede imza sahası devre sahasında sahibi takip adam ziraat mağlup tamamladı belediyespor meşin kaleci fazla dakikada ceza muhabir kırmızı\n",
      "Topic 12\n",
      "atarak işleme uygulama konuların ikili aşamasına yaşıyor kurulu dışında kazanan görüşmelerde toplantı izledi olarak oldu kesilen etme yapılan başvuru günü gerçekleşti önceki edeceği katıldığı kapatarak yeşil gönderildi çıkacak olurken vererek kuruluna başladı istenmeyen yoluna oynayacak etti tanıtım etkisiyle uçaklara iki ardından edildi beşiktaşlı başlayan karşıyaka yaklaşık toplam yüzde yanı sıra\n",
      "Topic 13\n",
      "öğrenildi yaşamını yaşındaki güçlerinin aldığı süre belirtildi kişinin olduğu yarısında çıktı gelen bildirildi yaptığı yaralandı büyük çıkan olarak bulunan olan alan edildi güçleri ikinci alınan aldı un kalan patlayıcı yapımı sırada örgütü bilgiye iki etti eden arasında sonucu etkisiz ilçesinde sarı son kişi beşiktaş güvenlik el yer oldu ardından in\n",
      "Topic 14\n",
      "değer eden yönetim aylık sonu büyüme kullandı ayda söyledi düşük olduğunu ye seçim yaklaşık ikinci toplam ortalama belirterek yılda olacak iki yılının başkanı yıllık etti yurt ilişkin dedi yüksek ayında konut genel dönemde oldu gelecek in küresel son önemli büyük geçen olan yılın yılı olarak yeni yılında bin yıl yüzde\n",
      "Topic 15\n",
      "çelik olabileceği çarpması kılıç oldukları patlaması saldırılarından patlamada bulunmadığı otoyolu kavşağı sürücüsü hız üzüntü duyulduğunu öner yaralıların ambulans kontrollü kişilerin isteyen küreme belirterek kınadı eşi dışında aldım yerlere yükseldi öldü olaydan belli 46 öğretmeni yapılırken olduğunu gaz ayrılıp çıkarıldı benzer kurtarılamadı patlamanın akdeniz bayram kentteki patlama araçtaki minibüs ölü tem\n",
      "Topic 16\n",
      "krizi sitesi park ekiplerince puanla ekibi personel partisi elektrik teröristler direktörü ligin kilometre operasyonu kart ajansı ekip metre direktör kültür kulübü bursa operasyonlarda sistemi spor demokratik sezonun teröristlerin grubu üniversitesi ligi trafik enerji terörist operasyon terörle jandarma sezon grup sivil operasyonda kontrol ekipleri ekonomik parti sosyal teknik polis milyon terör\n",
      "Topic 17\n",
      "güvenlik ilgili iki rusya genel ifade konuştu her olduğu 2015 aa başkanı ye etti tarafından son büyük yer söyledi yapılan ardından eden yeni dedi devam olduğunu olan yıl yaptığı terör yüzde açıklamada bin in olarak muhabir nın ın nin türkiye 02 01 08 06 04 09 07 05 000 00\n",
      "Topic 18\n",
      "terk hükümet tam hareket aile zamanda sur karar ticaret recep ifadesini diyarbakır tarihi zarar inşallah insan farklı şey merkezi an anda ziyaret allah dünyanın dikkati şeklinde milli hayatını işaret fazla mücadele dünya kabul sahip devlet siyasi ifadelerini aynı şehit hava islam muhabirine zaman kaydetti cumhurbaşkanı tarafından şekilde ifade devam muhabir\n",
      "Topic 19\n",
      "33 61 63 inin 38 69 56 konyaspor 65 99 muhammet 68 92 tcmb türkiye 95 sının 96 bartın 912 94 1980 ptt tff 39 64 abd 27 gürdamar 53 73 72 500 74 torku galatasaray bekir 75 bist den toto 11 29 21 10 istanbul 25 17 100 15\n",
      "Topic 20\n",
      "kritik lig kulübün ligi net sezonunun süper kur şampiyonu ekonomik sektöründe makro ekonomist oteller spor sezonda riskler sezonunda normal pozitif sportif baz finansal performansı metal puana plastik ankete risk pozisyon negatif endeks turizm enflasyonun finans puanı döviz bazda endeksinin sektörünün puandan analistler noel puan sektörü enflasyon sektör petrol endeksi milyar\n",
      "Topic 21\n",
      "geçen başına bölge şunları ediyor sığınmacı olacağını veren karla çalışma araç genelinde açıklamada bekleniyor olması ortaya bazı altında iş yoğun güvenlik doğu yaşanan batı yaklaşık yaptığı belirterek yılda ülkede yılı yüksek soylu konuştu söyledi dedi olarak yıl ocak önemli eden iç olduğunu olduğu yer in son büyük olan yeni bin\n",
      "Topic 22\n",
      "maçta fransa fenerbahçe 19 ibrahim galatasaray 24 izmir ukrayna hüseyin 50 18 40 çin yi 11 anadolu 16 den mustafa 2014 ahmet 14 20 daki 12 13 30 10 abd mehmet na tüm erdoğan ankara davutoğlu dan nun türk istanbul nda nde te 2016 2015 aa ın nın nin türkiye\n",
      "Topic 23\n",
      "yılında ülkenin yapılan kullandı güvenlik başkanlık içerisinde örgütü bizim ardından konusu büyük bazı söz değil bin bütün söyledi yaptığı anayasa önemli var uluslararası ülke ortaya yeni yönelik son birliği bakanı olan başbakan yıl olduğu konusunda iki etti konuştu yer arasında dedi olduğunu eden ye başkanı ilişkin in ilgili genel olarak\n",
      "Topic 24\n",
      "medyası dolarlık dolardan medyada doları skoru basketbol lideri telekom forvet maçtan maçın gole maçının skorla golü skorer golle futbolcusu futbolda maçı tim asist internetten futbolcular maçına dolara lider maça bek maçlara maçta maçlarda federal golcüsü faktoring maçlarında maçla golcü doların futbolcunun futbolcuların holding maç maçında futbolcu gol futbol internet dolar\n",
      "Topic 25\n",
      "yapısı sonuçlar oldu yapılıyor sağanak verilerin yağışıyla yapılacak gitmek doğrultusunda dışında köprü beklenti yüksel basın edildi çiçek etti takım uçuş yerin kurulu aş getiriliyor toplanacak askıya günün olunması sayım gönüllü iki başladı kesimleri doğusunda edilecek kalınlığının olan un bugünden ardından dönüş başlıyoristanbul başlayacak olarak gidiş önemli günü açıklamaya başlayan yapılan\n",
      "Topic 26\n",
      "abluka formasıyla makinesi avukatları posta papa politikalarının firmalara masaya politikalarını piyasalardaki piyasada formasını liranın firmaların kaptanı politikasını politikasının avukatı avukat piyasa marka bankanın firma politikaları avroluk firmaları lirası bankaların bombalı bankasının piyasalarda fırtına sigorta kupa numaralı politikası liradan banka bankası politika borsa bankacılık avro liralık forma liraya kupası lira avrupa\n",
      "Topic 27\n",
      "aralarında söz bilgiye düzenlenen ilişkin olarak konusu arama bazı bulunan genel bağlı yağışı olan kamu eğitime yoğun yazılı alındı eğitim yer sağlık kişinin il soruşturma in ara ye olmak ardından ocak gün olduğu verildi bulunduğu belirtildi yönelik bildirildi el edilen güvenlik edildi alınan kişi örgütü gözaltına kapsamında yapılan açıklamada bin\n",
      "Topic 28\n",
      "günü girişinde öner yönetmeni edilmesi gelmesi oluşabilecek başkanlığı ileriye edileceğini konuların yerlerine bostancı gerçekleşti sürecek bilerek sürmesi geyik bulunacak nitelikli başladı toplam bahçeli yetkililerinden kurulu eşlik içtüzüğü iletti görüş diledi ocak anlamı bekleniyor çalışma bildirildi gerçekleştireceği alışverişinde geleceği ye başkan başsağlığı birleşik araya edinilen kaynaklarından akdoğan edecek başbakanlık bilgiye başbakan\n",
      "Topic 29\n",
      "açıklamasında yola sağlık güvenlik çalışmalar olmasını toplu olarak ortak edilmesinin anlaşmanın başbakanı bulunan yönetiminin konuştu düzenlenen yetkililer dolayı belirten ülkeye toplantı güney bin belirtti yaptırım olacak yönelik kullandı olduğunu kişinin bulunduğuna yeni el yönetimi başkanı ilgili dedi ye bazı uçak toplantısında söyledi bildirdi bakanlığı açıklamada dışişleri sözcüsü yaptığı bakanı basın\n"
     ]
    }
   ],
   "source": [
    "#Use the best K2 here\n",
    "K2 = 30\n",
    "lda = LDA(K=K2, n_jobs=8, nr_em_epochs=20)\n",
    "mm_perp, b_mm, g_mm, e_mm = lda.fit(dt, f)\n",
    "\n",
    "topic_summaries(lookup_word, b_mm, K=K2)"
   ]
  },
  {
   "cell_type": "code",
   "execution_count": 35,
   "metadata": {
    "collapsed": false
   },
   "outputs": [
    {
     "name": "stdout",
     "output_type": "stream",
     "text": [
      "[None u'' u'Arap\\xe7a' u'Fars\\xe7a' u'Frans\\u0131zca' u'T\\xfcrk\\xe7e'\n",
      " u'Yunanca' u'\\u0130ngilizce' u'\\u0130talyanca']\n",
      "Topic 0\n"
     ]
    },
    {
     "ename": "UnicodeEncodeError",
     "evalue": "'ascii' codec can't encode character u'\\xfc' in position 1: ordinal not in range(128)",
     "output_type": "error",
     "traceback": [
      "\u001b[0;31m---------------------------------------------------------------------------\u001b[0m",
      "\u001b[0;31mUnicodeEncodeError\u001b[0m                        Traceback (most recent call last)",
      "\u001b[0;32m<ipython-input-35-d0b15d9c6cf8>\u001b[0m in \u001b[0;36m<module>\u001b[0;34m()\u001b[0m\n\u001b[1;32m      1\u001b[0m \u001b[0;32mprint\u001b[0m \u001b[0metym_vocab\u001b[0m\u001b[0;34m\u001b[0m\u001b[0m\n\u001b[0;32m----> 2\u001b[0;31m \u001b[0mtopic_summaries\u001b[0m\u001b[0;34m(\u001b[0m\u001b[0mlookup_etym\u001b[0m\u001b[0;34m,\u001b[0m \u001b[0me_mm\u001b[0m\u001b[0;34m,\u001b[0m \u001b[0mK\u001b[0m\u001b[0;34m=\u001b[0m\u001b[0mK2\u001b[0m\u001b[0;34m,\u001b[0m \u001b[0mtop\u001b[0m\u001b[0;34m=\u001b[0m\u001b[0;36m3\u001b[0m\u001b[0;34m)\u001b[0m\u001b[0;34m\u001b[0m\u001b[0m\n\u001b[0m",
      "\u001b[0;32m<ipython-input-34-1f0efea43688>\u001b[0m in \u001b[0;36mtopic_summaries\u001b[0;34m(fn, b, K, top)\u001b[0m\n\u001b[1;32m     11\u001b[0m         \u001b[0mwords\u001b[0m \u001b[0;34m=\u001b[0m \u001b[0;34m[\u001b[0m\u001b[0;34m]\u001b[0m\u001b[0;34m\u001b[0m\u001b[0m\n\u001b[1;32m     12\u001b[0m         \u001b[0;32mfor\u001b[0m \u001b[0mj\u001b[0m \u001b[0;32min\u001b[0m \u001b[0mrange\u001b[0m\u001b[0;34m(\u001b[0m\u001b[0mbs\u001b[0m\u001b[0;34m.\u001b[0m\u001b[0mshape\u001b[0m\u001b[0;34m[\u001b[0m\u001b[0;36m1\u001b[0m\u001b[0;34m]\u001b[0m\u001b[0;34m)\u001b[0m\u001b[0;34m:\u001b[0m\u001b[0;34m\u001b[0m\u001b[0m\n\u001b[0;32m---> 13\u001b[0;31m             \u001b[0mwords\u001b[0m\u001b[0;34m.\u001b[0m\u001b[0mappend\u001b[0m\u001b[0;34m(\u001b[0m\u001b[0mstr\u001b[0m\u001b[0;34m(\u001b[0m\u001b[0mfn\u001b[0m\u001b[0;34m(\u001b[0m\u001b[0mbs\u001b[0m\u001b[0;34m[\u001b[0m\u001b[0mi\u001b[0m\u001b[0;34m,\u001b[0m\u001b[0mj\u001b[0m\u001b[0;34m]\u001b[0m\u001b[0;34m)\u001b[0m\u001b[0;34m[\u001b[0m\u001b[0;36m0\u001b[0m\u001b[0;34m]\u001b[0m\u001b[0;34m)\u001b[0m\u001b[0;34m)\u001b[0m\u001b[0;34m\u001b[0m\u001b[0m\n\u001b[0m\u001b[1;32m     14\u001b[0m         \u001b[0;32mprint\u001b[0m \u001b[0;34m\" \"\u001b[0m\u001b[0;34m.\u001b[0m\u001b[0mjoin\u001b[0m\u001b[0;34m(\u001b[0m\u001b[0mwords\u001b[0m\u001b[0;34m)\u001b[0m\u001b[0;34m\u001b[0m\u001b[0m\n\u001b[1;32m     15\u001b[0m \u001b[0;34m\u001b[0m\u001b[0m\n",
      "\u001b[0;31mUnicodeEncodeError\u001b[0m: 'ascii' codec can't encode character u'\\xfc' in position 1: ordinal not in range(128)"
     ]
    }
   ],
   "source": [
    "print etym_vocab\n",
    "topic_summaries(lookup_etym, e_mm, K=K2, top=3)"
   ]
  },
  {
   "cell_type": "code",
   "execution_count": null,
   "metadata": {
    "collapsed": true
   },
   "outputs": [],
   "source": []
  }
 ],
 "metadata": {
  "kernelspec": {
   "display_name": "Python 2",
   "language": "python",
   "name": "python2"
  },
  "language_info": {
   "codemirror_mode": {
    "name": "ipython",
    "version": 2
   },
   "file_extension": ".py",
   "mimetype": "text/x-python",
   "name": "python",
   "nbconvert_exporter": "python",
   "pygments_lexer": "ipython2",
   "version": "2.7.11"
  }
 },
 "nbformat": 4,
 "nbformat_minor": 0
}
