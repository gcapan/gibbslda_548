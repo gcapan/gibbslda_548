{
 "cells": [
  {
   "cell_type": "code",
   "execution_count": 1,
   "metadata": {
    "collapsed": true
   },
   "outputs": [],
   "source": [
    "%matplotlib inline\n",
    "%load_ext line_profiler\n",
    "import numpy as np\n",
    "import scipy as sp\n",
    "import scipy.sparse as spar\n",
    "import scipy.special as spec\n",
    "import sys\n",
    "from matplotlib import pyplot as plt\n",
    "from lda import LDA, _doc_update, _slice_doc_update\n",
    "from sklearn.decomposition import LatentDirichletAllocation as SKLDA\n",
    "\n",
    "import pickle\n",
    "import cProfile"
   ]
  },
  {
   "cell_type": "code",
   "execution_count": 2,
   "metadata": {
    "collapsed": false
   },
   "outputs": [],
   "source": [
    "from data.datafile import AADataFile\n",
    "dfile = pickle.load(open(\"data/datafile.pkl\"))"
   ]
  },
  {
   "cell_type": "code",
   "execution_count": 3,
   "metadata": {
    "collapsed": false
   },
   "outputs": [],
   "source": [
    "dt = dfile.DT\n",
    "te = dfile.TE"
   ]
  },
  {
   "cell_type": "code",
   "execution_count": 4,
   "metadata": {
    "collapsed": false
   },
   "outputs": [],
   "source": [
    "f = te.toarray().argmax(axis=1)"
   ]
  },
  {
   "cell_type": "code",
   "execution_count": 10,
   "metadata": {
    "collapsed": false
   },
   "outputs": [
    {
     "name": "stdout",
     "output_type": "stream",
     "text": [
      "Epoch: 0\n",
      "Perplexity: 1.63261084698\n",
      "Epoch: 1\n",
      "Perplexity: 325.745739171\n",
      "Epoch: 2\n",
      "Perplexity: 298.398471194\n",
      "Epoch: 3\n",
      "Perplexity: 277.064323152\n",
      "Epoch: 4\n",
      "Perplexity: 261.40464915\n",
      "Epoch: 5\n",
      "Perplexity: 250.89628224\n",
      "Epoch: 6\n",
      "Perplexity: 244.016180078\n",
      "Epoch: 7\n",
      "Perplexity: 239.499604046\n",
      "Epoch: 8\n",
      "Perplexity: 236.577933169\n",
      "Epoch: 9\n",
      "Perplexity: 234.543853573\n",
      "Epoch: 10\n",
      "Perplexity: 233.020824677\n",
      "Epoch: 11\n",
      "Perplexity: 231.820478723\n",
      "Epoch: 12\n",
      "Perplexity: 230.901512006\n",
      "Epoch: 13\n",
      "Perplexity: 230.21296433\n",
      "Epoch: 14\n",
      "Perplexity: 229.66801685\n",
      "Epoch: 15\n",
      "Perplexity: 229.221419607\n",
      "Epoch: 16\n",
      "Perplexity: 228.858723131\n",
      "Epoch: 17\n",
      "Perplexity: 228.534450907\n",
      "Epoch: 18\n",
      "Perplexity: 228.258660649\n",
      "Epoch: 19\n",
      "Perplexity: 228.001226572\n",
      "CPU times: user 1.87 s, sys: 1.67 s, total: 3.54 s\n",
      "Wall time: 1min 59s\n"
     ]
    }
   ],
   "source": [
    "lda = LDA(K=10, n_jobs=8, nr_em_epochs=20)\n",
    "%time b_uni, g_uni = lda.fit(dt)"
   ]
  },
  {
   "cell_type": "code",
   "execution_count": 7,
   "metadata": {
    "collapsed": false
   },
   "outputs": [],
   "source": [
    "vocab = dfile.vocabulary"
   ]
  },
  {
   "cell_type": "code",
   "execution_count": 8,
   "metadata": {
    "collapsed": true
   },
   "outputs": [],
   "source": [
    "lookup = lambda x : [k[0] for k in vocab if k[1] == x]\n",
    "\n",
    "def topic_summaries(b):\n",
    "    bs = b.argsort()[:,-50:]\n",
    "    for i in range(10):\n",
    "        print \"Topic\", i\n",
    "        words = []\n",
    "        for j in range(bs.shape[1]):\n",
    "            words.append(lookup(bs[i,j])[0])\n",
    "        print \" \".join(words)"
   ]
  },
  {
   "cell_type": "code",
   "execution_count": 11,
   "metadata": {
    "collapsed": false
   },
   "outputs": [
    {
     "name": "stdout",
     "output_type": "stream",
     "text": [
      "Topic 0\n",
      "yaptığı trafik şehit verildi vatandaşlar sarıkamış yer yeni devam nun bağlı na edildi ekipleri deniz yılbaşı türkiye bazı günü il yaklaşık olumsuz saat sonucu etti eğitime in kişi tarafından ara sağlık ilçesinde nde nda eğitim nin olan gelen gün yapılan açıklamada nın ın yoğun yağışı istanbul ardından hava muhabir kar\n",
      "Topic 1\n",
      "ukrayna ab 15 sosyal ayında su yılda son dönemde gelecek aynı 2014 olacak genel büyük oldu nin toplam çin yüksek 30 dolar asgari yaklaşık enerji ilişkin 10 ülke ticaret te geçen yılın olan nın yılı yılında ekonomik yeni ocak lira olarak milyar türkiye rusya 2015 yıl 2016 milyon yüzde bin\n",
      "Topic 2\n",
      "bilgiye imha yönelik olay getirildi gelen zarar güçleri arama edildi olduğu ekipleri iş alınan çıkma sınır sokağa eden in operasyonlarda operasyonda iki yapılan ele bölücü ardından teröristlerin açıklamada mahallesi pkk silopi devam şırnak jandarma patlayıcı yapımı terörist diyarbakır cizre şehit etkisiz sur el ilçesinde ın hale polis örgütü güvenlik terör\n",
      "Topic 3\n",
      "değer ibadi fed savunma 2014 ifade varil merkez nde eden yılında ham düşük bakanı te büyük olarak iran dolar oldu iki yi yıl ziyaret ardından ikinci ye önemli etti faiz yer muhabir 2016 nın olan yüzde yılı devam irak cumhurbaşkanı küresel 2015 suudi arabistan nin abd in erdoğan ın petrol\n",
      "Topic 4\n",
      "bağlı bulunduğu yönelik ramadi yıl saldırı aa batı ifade arasında silahlı belirtildi güçleri bulunan rusya güçlerinin iran yer hayatını örgütü savaş deki filistin esed yapılan olduğu terör yaptığı rus bildirildi arabistan te suudi kişi hava tarafından irak nin muhabir abd açıklamada kişinin nın bin el ın suriye in daeş israil\n",
      "Topic 5\n",
      "olduğu açıklamada ortaya muhabir yeni böyle bakanı ye son davutoğlu ilgili islam muhabirine hiçbir aa önemli olan türk terör ifadelerini bütün erdoğan ın belirterek zaman belirten kaydetti dile şunları değil şekilde kullandı nın etti başkanı ifade bizim devam büyük eden yaptığı var her olarak nin söyledi konuştu dedi olduğunu türkiye\n",
      "Topic 6\n",
      "her eski belirtti almanya anlatan yurt işlem sektör dan suriyeli borsa tarafından değer büyük para ay spor dile milli gelen yılında oldu ifade bist olan dedi türkiye yılın geçen eden olduğunu olarak istanbul fazla yaklaşık avrupa nın lira muhabir bin yeni açıklamada söyledi yaptığı muhabirine 100 yıl endeksi aa yüzde\n",
      "Topic 7\n",
      "gülen cumhurbaşkanı suçundan müdürü mücadele devlet ardından fetö erdoğan karar adli na operasyonda suç olmak nın yapılan ilişkin mahkeme pdy tespit şube bilgiye edildi nin sevk eski ilgili şüpheli serbest ın yönelik kararı kişi olduğu bulunduğu istanbul edilen muhabir alınan soruşturma örgütü kapsamında cumhuriyet müdürlüğü ankara gözaltına ceza terör emniyet\n",
      "Topic 8\n",
      "avrupa ardından kamu olduğu önemli uluslararası arabistan tarafından tüm suriye ifade son başkan devlet söz konusu basın bazı suudi siyasi kabul dışişleri konusunda yönelik iran birliği anayasa arasında yer güvenlik hdp ab parti ye muhabir rusya açıklamada yapılan başkanı ın ilişkin ilgili başbakan davutoğlu yeni olarak nın genel türkiye nin\n",
      "Topic 9\n",
      "beyazlı toto gençlerbirliği maçında etti 2015 direktör 11 aldı arasında takımı 16 kupası yarısında ardından nin kulübü ceza trabzonspor sırada sezonun 17 dakikada avrupa un kırmızı futbolcu spor ikinci nda maçta fenerbahçe ligi oldu gol nın takım süper futbol yer galatasaray son sezon sarı beşiktaş in lig muhabir ın teknik\n"
     ]
    }
   ],
   "source": [
    "topic_summaries(b_uni)"
   ]
  },
  {
   "cell_type": "markdown",
   "metadata": {},
   "source": [
    "# Multimodal Starts Here!"
   ]
  },
  {
   "cell_type": "code",
   "execution_count": 5,
   "metadata": {
    "collapsed": false
   },
   "outputs": [
    {
     "name": "stdout",
     "output_type": "stream",
     "text": [
      "Epoch: 0\n",
      "Perplexity: 1.67907689262\n",
      "Epoch: 1\n",
      "Perplexity: 359.131142056\n",
      "Epoch: 2\n",
      "Perplexity: 359.307590519\n",
      "Epoch: 3\n",
      "Perplexity: 343.016780133\n",
      "Epoch: 4\n",
      "Perplexity: 325.265367587\n",
      "Epoch: 5\n",
      "Perplexity: 315.536865259\n",
      "Epoch: 6\n",
      "Perplexity: 309.286199933\n",
      "Epoch: 7\n",
      "Perplexity: 305.615378896\n",
      "Epoch: 8\n",
      "Perplexity: 303.072672946\n",
      "Epoch: 9\n",
      "Perplexity: 301.389319777\n",
      "Epoch: 10\n",
      "Perplexity: 300.435784124\n",
      "Epoch: 11\n",
      "Perplexity: 299.882553233\n",
      "Epoch: 12\n",
      "Perplexity: 299.41994288\n",
      "Epoch: 13\n",
      "Perplexity: 298.891643543\n",
      "Epoch: 14\n",
      "Perplexity: 298.362570784\n",
      "Epoch: 15\n",
      "Perplexity: 297.874961706\n",
      "Epoch: 16\n",
      "Perplexity: 297.542599662\n",
      "Epoch: 17\n",
      "Perplexity: 297.294460161\n",
      "Epoch: 18\n",
      "Perplexity: 297.037783128\n",
      "Epoch: 19\n",
      "Perplexity: 296.795661696\n",
      "CPU times: user 1.9 s, sys: 1.64 s, total: 3.53 s\n",
      "Wall time: 1min 57s\n"
     ]
    }
   ],
   "source": [
    "lda = LDA(K=10, n_jobs=8, nr_em_epochs=20)\n",
    "%time b, g, e = lda.fit(dt, f)"
   ]
  },
  {
   "cell_type": "code",
   "execution_count": 9,
   "metadata": {
    "collapsed": false
   },
   "outputs": [
    {
     "name": "stdout",
     "output_type": "stream",
     "text": [
      "Topic 0\n",
      "kaydedildi belediye memuru harekat kararı tespit mahsur isabet adliyeye infilak askeri müdahale merkezi silahlı merkez hasar itfaiye merkezli adli müdürlüğüne cenaze devlet zarar vatandaşlar tedavi şehidin asker mensubu cenazesi imha vatandaşların caddesi sokağa mücadele şüpheli tarafından hayatını cumhuriyet şube müdürü devam sevk muhabir mahallesi sur müdürlüğü diyarbakır hale şehit emniyet\n",
      "Topic 1\n",
      "hdp 2014 25 mustafa 14 ele 20 ahmet 12 13 17 100 yi 30 pkk rus 11 mehmet 15 iran irak na ankara arabistan den daki tüm nun suudi dan 10 nda abd daeş davutoğlu israil erdoğan nde türk istanbul te suriye 2016 rusya 2015 aa nın ın nin türkiye\n",
      "Topic 2\n",
      "gerektiğini vurgulayan ardından yapan etmek getiren bin böyle bulundu bazı ederek ilişkin anlatan iş iki belirtti ortaya konusunda bakanı bütün olduğu şunları değil yıl bizim in belirten son önemli genel belirterek başbakan olan kullandı ye ilgili dile açıklamada etti büyük var yeni başkanı eden yaptığı konuştu olarak söyledi olduğunu dedi\n",
      "Topic 3\n",
      "dönemde yılda başkanı bulunan ikinci deki bazı konusu toplam bildirildi önemli kişi batı ilgili iç söz uluslararası ardından yüksek el ülke olduğu ilişkin büyük ayında kişinin ye alan oldu güvenlik iki yılın genel son yaklaşık arasında geçen ocak yılı yılında açıklamada olan yapılan yeni yer olarak in yıl yüzde bin\n",
      "Topic 4\n",
      "takip ziyaret recep sahibi an kırmızı ticaret kararı allah halinde şey ali anda silahlı tarihi insan kaydedildi dünyanın merkezi şeklinde hayatını farklı saat dikkati resmi karar işaret sahip siyasi dünya ifadelerini kabul milli islam mücadele ceza devlet cumhurbaşkanı aynı fazla zaman kaydetti muhabirine kar şekilde hava tarafından ifade devam muhabir\n",
      "Topic 5\n",
      "kilometre diplomatik transfer operasyonu federasyonu sektör kart ekonomi ajansı ekip metre direktör rejim kültür bursa kulübü sistemi operasyonlarda sezonun demokratik teröristlerin grubu üniversitesi puan ligi trafik terörist süper operasyon enerji terörle sezon jandarma petrol grup sivil operasyonda kontrol lig ekipleri endeksi ekonomik spor milyar parti sosyal teknik polis milyon terör\n",
      "Topic 6\n",
      "golle şehir belediyespor desteğiyle meşin köy yardımcı hastanesine hastanede haftasında haftada sayesinde hastaneye çerçevesinde kaleci dolara paralel desteği maç pazar galibiyet beyazlı maçında şahin siyah lider ateş ten can futbolcu maçta herhangi çeşitli gol meydana zorunda amacıyla futbol internet para serbest dolar hafta yardım hiçbir ab yardımcısı destek diğer her\n",
      "Topic 7\n",
      "sayıda süre yoğun yarısında bin çıkan belirtildi edildi alan yaralandı takım yaklaşık yağışı büyük eden yaşındaki yüzde sağlık olay arasında bulunan ilçesinde çıktı iki aldı alınan un yaptığı güvenlik olarak yapılan sonucu kalan günü ikinci sırada olan bilgiye etti 00 gelen açıklamada sarı yer kişi son beşiktaş oldu ardından in\n",
      "Topic 8\n",
      "politikaları avukatları bankaların limanı sınırları sınırına lirası boyraz formayı propaganda namlulu fidan papa bankasının menderes sınırlı sınırındaki makinesi piyasalarda bodrum sınırında bombalı bombası fırtına protesto sigorta politikalar kupa politikası numaralı kral liradan banka bankası çavuşoğlu politika borsa bankacılık avro gümrük temel liralık çavuş forma liraya bomba kupası sınır lira avrupa\n",
      "Topic 9\n",
      "üyesi ilçelerinde sağlık bulunan alındı bazı başkanı bağlı suç olan bölücü eski arama genel belirtildi eğitime eğitim ilgili getirildi olmak ye bildirildi ara patlayıcı ilişkin yapımı il bilgiye kamu soruşturma gün etkisiz bulunduğu verildi ardından açıklamada in olduğu kişi edilen ilçesinde alınan yönelik kapsamında güvenlik yapılan edildi gözaltına el örgütü\n"
     ]
    }
   ],
   "source": [
    "topic_summaries(b)"
   ]
  },
  {
   "cell_type": "code",
   "execution_count": 12,
   "metadata": {
    "collapsed": true
   },
   "outputs": [],
   "source": [
    "from sklearn.metrics import adjusted_rand_score as ARI, adjusted_mutual_info_score as AMI"
   ]
  },
  {
   "cell_type": "code",
   "execution_count": 18,
   "metadata": {
    "collapsed": false
   },
   "outputs": [],
   "source": [
    "unimodal = np.argmax(g_uni, 0)\n",
    "multimodal = np.argmax(g, 0)"
   ]
  },
  {
   "cell_type": "code",
   "execution_count": 21,
   "metadata": {
    "collapsed": false
   },
   "outputs": [],
   "source": [
    "cat = dfile.categories"
   ]
  },
  {
   "cell_type": "code",
   "execution_count": 24,
   "metadata": {
    "collapsed": false
   },
   "outputs": [
    {
     "name": "stdout",
     "output_type": "stream",
     "text": [
      "Unimodal Rand:  0.216581773357\n",
      "Unimodal Adj MI:  0.291553303472\n",
      "Multimodal Rand:  0.0618414672066\n",
      "Multimodal Adj MI:  0.135851843571\n"
     ]
    }
   ],
   "source": [
    "print \"Unimodal Rand: \", ARI(unimodal, cat)\n",
    "print \"Unimodal Adj MI: \", AMI(unimodal, cat)\n",
    "\n",
    "print \"Multimodal Rand: \", ARI(multimodal, cat)\n",
    "print \"Multimodal Adj MI: \", AMI(multimodal, cat)"
   ]
  },
  {
   "cell_type": "code",
   "execution_count": null,
   "metadata": {
    "collapsed": true
   },
   "outputs": [],
   "source": []
  }
 ],
 "metadata": {
  "kernelspec": {
   "display_name": "Python 2",
   "language": "python",
   "name": "python2"
  },
  "language_info": {
   "codemirror_mode": {
    "name": "ipython",
    "version": 2
   },
   "file_extension": ".py",
   "mimetype": "text/x-python",
   "name": "python",
   "nbconvert_exporter": "python",
   "pygments_lexer": "ipython2",
   "version": "2.7.10"
  }
 },
 "nbformat": 4,
 "nbformat_minor": 0
}
