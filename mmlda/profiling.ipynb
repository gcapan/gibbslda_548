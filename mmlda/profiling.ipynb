{
 "cells": [
  {
   "cell_type": "code",
   "execution_count": null,
   "metadata": {},
   "outputs": [],
   "source": [
    "!pwd"
   ]
  },
  {
   "cell_type": "code",
   "execution_count": null,
   "metadata": {},
   "outputs": [],
   "source": [
    "%matplotlib inline\n",
    "%load_ext line_profiler\n",
    "import numpy as np\n",
    "import scipy as sp\n",
    "import scipy.sparse as spar\n",
    "import scipy.special as spec\n",
    "import sys\n",
    "from matplotlib import pyplot as plt\n",
    "from lda import LDA\n",
    "from sklearn.decomposition import LatentDirichletAllocation as SKLDA\n",
    "\n",
    "import cProfile"
   ]
  },
  {
   "cell_type": "code",
   "execution_count": null,
   "metadata": {},
   "outputs": [],
   "source": [
    "M = 100\n",
    "V = 1000\n",
    "X = np.random.binomial(1,.3, size=M*V).reshape(M,V)\n",
    "X = spar.csr_matrix(X, dtype=float)"
   ]
  },
  {
   "cell_type": "code",
   "execution_count": null,
   "metadata": {},
   "outputs": [],
   "source": [
    "K = 5\n",
    "M, V = X.shape\n",
    "m = 14\n",
    "alpha = .1\n",
    "nr_terms = X.sum(axis=1)\n",
    "nr_terms = np.array(nr_terms).squeeze()\n",
    "\n",
    "# model parameters\n",
    "beta = np.random.rand(K, V)\n",
    "\n",
    "gamma = np.zeros((K, M)) + alpha + (nr_terms/float(K)) # mth document, i th topic\n",
    "beta_acc = np.zeros((K, V))\n",
    "\n",
    "phi = np.zeros((K, V), dtype=float) + 1./K\n",
    "ixw = X[m, :].nonzero()[1]  # an index to words which have appeared in the document\n",
    "\n",
    "gammad = gamma[:, m]  # slice for the document only once\n",
    "\n",
    "%timeit phi[:, ixw] = beta[:, ixw]\n",
    "%timeit phi[:, ixw] = ((beta[:, ixw]).T * np.exp(spec.digamma(gammad))).T\n",
    "%timeit phi[:, ixw] = ((beta[:, ixw]).T * np.exp(gammad)).T"
   ]
  },
  {
   "cell_type": "code",
   "execution_count": null,
   "metadata": {},
   "outputs": [],
   "source": [
    "phi = np.zeros((K, V), dtype=float) + 1./K"
   ]
  },
  {
   "cell_type": "code",
   "execution_count": null,
   "metadata": {},
   "outputs": [],
   "source": [
    "phi"
   ]
  },
  {
   "cell_type": "code",
   "execution_count": null,
   "metadata": {},
   "outputs": [],
   "source": [
    "%%timeit\n",
    "phi = np.zeros((K, V), dtype=float) + 1./K\n",
    "\n",
    "phi = phi / np.sum(phi, 0)"
   ]
  },
  {
   "cell_type": "code",
   "execution_count": null,
   "metadata": {},
   "outputs": [],
   "source": [
    "from sklearn.preprocessing import normalize"
   ]
  },
  {
   "cell_type": "code",
   "execution_count": null,
   "metadata": {},
   "outputs": [],
   "source": [
    "_phi = np.zeros((K, V), dtype=float) + 1./K\n",
    "\n",
    "%timeit _phi[:, ixw] /= np.sum(_phi[:, ixw], 0)"
   ]
  },
  {
   "cell_type": "code",
   "execution_count": null,
   "metadata": {},
   "outputs": [],
   "source": [
    "_phi = np.zeros((K, V), dtype=float) + 1./K\n",
    "\n",
    "%timeit _phi = normalize(_phi, norm=\"l1\", axis=0)"
   ]
  },
  {
   "cell_type": "code",
   "execution_count": null,
   "metadata": {},
   "outputs": [],
   "source": [
    "A = np.random.rand(5, 300)\n",
    "B = np.random.rand(5, 300)\n",
    "\n",
    "%timeit np.linalg.norm(A - B, \"fro\")\n",
    "%timeit np.linalg.norm(A - B, 1)\n",
    "%timeit np.max(np.abs(A-B))"
   ]
  },
  {
   "cell_type": "code",
   "execution_count": null,
   "metadata": {},
   "outputs": [],
   "source": [
    ""
   ]
  }
 ],
 "metadata": {
  "kernelspec": {
   "display_name": "Python 2",
   "language": "python",
   "name": "python2"
  },
  "language_info": {
   "codemirror_mode": {
    "name": "ipython",
    "version": 2.0
   },
   "file_extension": ".py",
   "mimetype": "text/x-python",
   "name": "python",
   "nbconvert_exporter": "python",
   "pygments_lexer": "ipython2",
   "version": "2.7.10"
  }
 },
 "nbformat": 4,
 "nbformat_minor": 0
}