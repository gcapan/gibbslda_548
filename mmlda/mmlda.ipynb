{
 "cells": [
  {
   "cell_type": "code",
   "execution_count": 10,
   "metadata": {
    "collapsed": true
   },
   "outputs": [],
   "source": [
    "%matplotlib inline\n",
    "%load_ext line_profiler\n",
    "import numpy as np\n",
    "import scipy as sp\n",
    "import scipy.sparse as spar\n",
    "import scipy.special as spec\n",
    "import sys\n",
    "from matplotlib import pyplot as plt\n",
    "from lda import LDA, _doc_update, _slice_doc_update\n",
    "from sklearn.decomposition import LatentDirichletAllocation as SKLDA\n",
    "\n",
    "import pickle\n",
    "import cProfile"
   ]
  },
  {
   "cell_type": "code",
   "execution_count": 15,
   "metadata": {
    "collapsed": false
   },
   "outputs": [],
   "source": [
    "from data.datafile import AADataFile\n",
    "dfile = pickle.load(open(\"data/datafile.pkl\"))"
   ]
  },
  {
   "cell_type": "code",
   "execution_count": 19,
   "metadata": {
    "collapsed": false
   },
   "outputs": [],
   "source": [
    "dt = dfile.DT\n",
    "te = dfile.TE"
   ]
  },
  {
   "cell_type": "code",
   "execution_count": 23,
   "metadata": {
    "collapsed": false
   },
   "outputs": [],
   "source": [
    "f = te.toarray().argmax(axis=1)"
   ]
  },
  {
   "cell_type": "code",
   "execution_count": 26,
   "metadata": {
    "collapsed": false
   },
   "outputs": [
    {
     "name": "stdout",
     "output_type": "stream",
     "text": [
      "Epoch: 0\n",
      "Perplexity: 1.62802180896\n",
      "Epoch: 1\n",
      "Perplexity: 320.788997019\n",
      "Epoch: 2\n",
      "Perplexity: 285.352619188\n",
      "Epoch: 3\n",
      "Perplexity: 263.822218427\n",
      "Epoch: 4\n",
      "Perplexity: 253.473304412\n",
      "Epoch: 5\n",
      "Perplexity: 247.57391203\n",
      "Epoch: 6\n",
      "Perplexity: 243.659686949\n",
      "Epoch: 7\n",
      "Perplexity: 240.870070446\n",
      "Epoch: 8\n",
      "Perplexity: 238.853216706\n",
      "Epoch: 9\n",
      "Perplexity: 237.289369241\n",
      "Epoch: 10\n",
      "Perplexity: 236.060965843\n",
      "Epoch: 11\n",
      "Perplexity: 235.047315754\n",
      "Epoch: 12\n",
      "Perplexity: 234.211741831\n",
      "Epoch: 13\n",
      "Perplexity: 233.475218939\n",
      "Epoch: 14\n",
      "Perplexity: 232.860398616\n",
      "Epoch: 15\n",
      "Perplexity: 232.284863341\n",
      "Epoch: 16\n",
      "Perplexity: 231.728773646\n",
      "Epoch: 17\n",
      "Perplexity: 231.238709278\n",
      "Epoch: 18\n",
      "Perplexity: 230.781556076\n",
      "Epoch: 19\n",
      "Perplexity: 230.380251816\n",
      "CPU times: user 1.77 s, sys: 1.63 s, total: 3.41 s\n",
      "Wall time: 57.5 s\n"
     ]
    }
   ],
   "source": [
    "lda = LDA(K=10, n_jobs=8, nr_em_epochs=20)\n",
    "%time b, g = lda.fit(dt)"
   ]
  },
  {
   "cell_type": "code",
   "execution_count": 30,
   "metadata": {
    "collapsed": false
   },
   "outputs": [],
   "source": [
    "vocab = dfile.vocabulary"
   ]
  },
  {
   "cell_type": "code",
   "execution_count": 33,
   "metadata": {
    "collapsed": true
   },
   "outputs": [],
   "source": [
    "lookup = lambda x : [k[0] for k in vocab if k[1] == x]\n",
    "\n",
    "def topic_summaries(b):\n",
    "    bs = b.argsort()[:,-50:]\n",
    "    for i in range(10):\n",
    "        print \"Topic\", i\n",
    "        words = []\n",
    "        for j in range(bs.shape[1]):\n",
    "            words.append(lookup(bs[i,j])[0])\n",
    "        print \" \".join(words)"
   ]
  },
  {
   "cell_type": "code",
   "execution_count": 34,
   "metadata": {
    "collapsed": false
   },
   "outputs": [
    {
     "name": "stdout",
     "output_type": "stream",
     "text": [
      "Topic 0\n",
      "büyük olan fazla şeria devam filistinli kaydedildi saldırı kudüs yahudi çıkma gazze trafik bazı silahlı gelen ettiği ediyor yıl sonucu son bulunduğu abd arasında sınır te çocuk yaklaşık olarak hava bildirildi hayatını nın belirtildi filistin yapılan batı polis el nin kişi olduğu muhabir tarafından kişinin güvenlik açıklamada in bin israil\n",
      "Topic 1\n",
      "kupası arasında fazla geçen aldı nda ardından nin yılın yarısında trabzonspor un sezonun sırada spor milyon 17 11 kırmızı bin futbolcu puan maçta takım nın 100 fenerbahçe ligi 16 olarak ikinci avrupa gol futbol süper yer galatasaray sezon son 2015 oldu beşiktaş sarı lig muhabir endeksi teknik in ın yüzde\n",
      "Topic 2\n",
      "sevk söz yapılan devlet aralarında ye olarak yıl mahkeme pdy edildi karar suç olmak te kamu bin eski na nın el suriye ilgili ramadi müdürlüğü kişi ilişkin yönelik olduğu alınan serbest yer bulunduğu kararı edilen soruşturma ceza muhabir nin cumhuriyet gözaltına irak ankara ın kapsamında in emniyet örgütü terör daeş\n",
      "Topic 3\n",
      "etkisini meşin karla gün nde yıl bildirildi tarafından iki arama kış derece özel doğu anadolu yılbaşı iç olarak ceza türkiye yaptığı yaklaşık ankara olumsuz yer 10 açıklamada devam nun olan deniz genel nın yeni nda 00 lira milyon nin yapılan saat ocak yoğun günü yağışı muhabir istanbul hava bin kar\n",
      "Topic 4\n",
      "kaydetti yer yaklaşık zaman yapan nda avrupa yaşındaki kullandı dünya dan ardından belirten tarihi nin aynı anlatan belirtti belirterek sosyal her nde gelen tarafından in dile bin etti spor olan milli başkanı ifade türk büyük olarak konuştu muhabir ın eden türkiye nın yıl dedi olduğunu açıklamada muhabirine söyledi yaptığı aa\n",
      "Topic 5\n",
      "eşi çocuk dan tayyip hava ahıska son mahallesi açıklamada ekipleri recep yaşamını bulunan rus kar tedavi devlet yoğun allah yaptığı sonucu söyledi alınan kalan nin hayatını yaşındaki in yardım türkiye gelen tarafından suriyeli karakaya yaklaşık cumhurbaşkanı etti aa ye yeni bilgiye sağlık ilçesinde kişi ardından nın muhabir suriye erdoğan ın\n",
      "Topic 6\n",
      "şehidin çavuş nde nın eden operasyon devam eğitim getirildi bölücü yönelik mahallesi ilçelerinde alınan ekipleri il açıklamada teröristlerin ele in operasyonlarda gün emniyet silopi verildi eğitime pkk edildi ara diyarbakır operasyonda yapılan sur ardından patlayıcı jandarma terörist yapımı şırnak cizre polis el ın etkisiz hale ilçesinde güvenlik örgütü şehit terör\n",
      "Topic 7\n",
      "bulunan eden ziyaret önemli bazı diplomatik konusu sözcüsü kabul başkanı ilgili nemr arasında daki tüm güvenlik olduğunu uluslararası bakanlığı ardından basın genel cumhurbaşkanı yer ilişkin iki ye ifade irak rusya yönelik erdoğan abd suriye bakanı olarak dışişleri görmez in nın açıklamada yapılan islam muhabir nin türkiye iran arabistan ın suudi\n",
      "Topic 8\n",
      "kürt böyle türk muhabir önemli parti erdoğan ortaya rusya pkk ilgili yeni belirten belirterek son genel olan ifadelerini dile etti hiçbir ifade ye zaman nın kaydetti şunları hdp başkanı bütün kullandı yaptığı başbakan değil şekilde eden devam büyük bizim davutoğlu söyledi terör her var olarak olduğunu dedi konuştu nin türkiye\n",
      "Topic 9\n",
      "gelecek iş yer ticaret çin başkanlık büyük olacak oldu 2014 eden arasında devlet ayında ülke enerji son iki ye petrol devam ukrayna abd avrupa in ilgili te önemli başkanı yılı olan ilişkin bin ekonomik milyar ocak milyon yılında genel ab olarak yeni nın yıl yüzde rusya nin 2015 türkiye 2016\n"
     ]
    }
   ],
   "source": [
    "topic_summaries(b)"
   ]
  },
  {
   "cell_type": "code",
   "execution_count": null,
   "metadata": {
    "collapsed": true
   },
   "outputs": [],
   "source": []
  }
 ],
 "metadata": {
  "kernelspec": {
   "display_name": "Python 2",
   "language": "python",
   "name": "python2"
  },
  "language_info": {
   "codemirror_mode": {
    "name": "ipython",
    "version": 2
   },
   "file_extension": ".py",
   "mimetype": "text/x-python",
   "name": "python",
   "nbconvert_exporter": "python",
   "pygments_lexer": "ipython2",
   "version": "2.7.10"
  }
 },
 "nbformat": 4,
 "nbformat_minor": 0
}
